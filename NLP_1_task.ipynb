{
  "cells": [
    {
      "cell_type": "markdown",
      "metadata": {
        "id": "view-in-github",
        "colab_type": "text"
      },
      "source": [
        "<a href=\"https://colab.research.google.com/github/Vladislav-GitHub/DL-and-NLP-ITMO-course/blob/hw_1/NLP_1_task.ipynb\" target=\"_parent\"><img src=\"https://colab.research.google.com/assets/colab-badge.svg\" alt=\"Open In Colab\"/></a>"
      ]
    },
    {
      "cell_type": "markdown",
      "metadata": {
        "id": "CGKVjxr2PCu_"
      },
      "source": [
        "#Загрузка данных"
      ]
    },
    {
      "cell_type": "code",
      "execution_count": null,
      "metadata": {
        "id": "JRHEhfVABYqY"
      },
      "outputs": [],
      "source": [
        "!pip install corus\n",
        "!pip install razdel\n",
        "!pip install contractions\n",
        "!pip install num2words\n",
        "!python3 -m spacy download ru_core_news_sm\n",
        "!pip install natasha\n",
        "!pip install pymystem3\n",
        "!wget https://dumps.wikimedia.org/ruwiki/latest/ruwiki-latest-pages-articles.xml.bz2"
      ]
    },
    {
      "cell_type": "code",
      "execution_count": 3,
      "metadata": {
        "id": "D9-pcj7NWPgG"
      },
      "outputs": [],
      "source": [
        "import re\n",
        "import nltk\n",
        "import contractions\n",
        "import numpy as np\n",
        "import unicodedata as ucd\n",
        "import spacy\n",
        "from corus import load_wiki\n",
        "from nltk.corpus import stopwords\n",
        "from num2words import num2words\n",
        "from razdel import tokenize, sentenize\n",
        "from pymystem3 import Mystem\n",
        "from nltk.stem import SnowballStemmer\n",
        "from nltk.tokenize import sent_tokenize\n",
        "from spacy import displacy\n",
        "from gensim.utils import tokenize\n",
        "from nltk import word_tokenize\n",
        "from natasha import Doc, Segmenter, NewsEmbedding, NewsMorphTagger"
      ]
    },
    {
      "cell_type": "code",
      "execution_count": null,
      "metadata": {
        "id": "LLnGhGcYcDzn"
      },
      "outputs": [],
      "source": [
        "np.random.seed(42)\n",
        "nltk.download('stopwords')\n",
        "nltk.download('wordnet')\n",
        "nltk.download('punkt')\n",
        "stop_words = set(stopwords.words(\"russian\"))"
      ]
    },
    {
      "cell_type": "code",
      "execution_count": null,
      "metadata": {
        "id": "gHkuMjNgIT6t"
      },
      "outputs": [],
      "source": [
        "path = '/content/ruwiki-latest-pages-articles.xml.bz2'\n",
        "records = load_wiki(path)\n",
        "next(records)"
      ]
    },
    {
      "cell_type": "code",
      "execution_count": null,
      "metadata": {
        "id": "ASDzWmDPIo3n"
      },
      "outputs": [],
      "source": [
        "dataset = [next(records).text.lower() for _ in range(1000)]\n",
        "print(dataset[0])\n",
        "\n",
        "# Предложения\n",
        "sentences = [_.text for _ in list(sentenize(dataset[0]))]\n",
        "print(sentences[0])"
      ]
    },
    {
      "cell_type": "markdown",
      "metadata": {
        "id": "fPh0ndP1zqvk"
      },
      "source": [
        "#Удаление стоп-слов"
      ]
    },
    {
      "cell_type": "code",
      "execution_count": 7,
      "metadata": {
        "id": "59nCd6i7zv-x"
      },
      "outputs": [],
      "source": [
        "def remove_stopwords(words):\n",
        "    \"\"\"\n",
        "    Удаление стоп-слов из списка токенизированных слов\n",
        "    \"\"\"\n",
        "    return [word for word in words if word not in stop_words]"
      ]
    },
    {
      "cell_type": "markdown",
      "metadata": {
        "id": "60R2OF9NQvG_"
      },
      "source": [
        "#Нормализация"
      ]
    },
    {
      "cell_type": "code",
      "execution_count": null,
      "metadata": {
        "id": "4BRFcIKnX6fQ"
      },
      "outputs": [],
      "source": [
        "def replace_contractions(text):\n",
        "    \"\"\"\n",
        "    Заменить сокращения в тексте\n",
        "    \"\"\"\n",
        "    return contractions.fix(text)\n",
        "\n",
        "sample = replace_contractions(dataset[0])\n",
        "print(sample)\n",
        "words = nltk.word_tokenize(sample, language=\"russian\")\n",
        "print(words)"
      ]
    },
    {
      "cell_type": "code",
      "execution_count": null,
      "metadata": {
        "id": "n0-D2tccVqqu"
      },
      "outputs": [],
      "source": [
        "def remove_non_ASCII(words):\n",
        "    \"\"\"\n",
        "    Удаление символов, не являющихся символами ASCII, из списка токенизированных слов\n",
        "    \"\"\"\n",
        "    return [ucd.normalize('NFKD', word) for word in words]\n",
        "\n",
        "def to_lowercase(words):\n",
        "    \"\"\"\n",
        "    Преобразование всех символов в строчные из списка токенизированных слов\n",
        "    \"\"\"\n",
        "    return [word.lower() for word in words]\n",
        "\n",
        "def remove_punctuation(words):\n",
        "    \"\"\"\n",
        "    Удаление знаков препинания из списка токенизированных слов\n",
        "    \"\"\"\n",
        "    return [re.sub(r'[^\\w\\s]', '', word) for word in words if word != '']\n",
        "\n",
        "def replace_numbers(words):\n",
        "    \"\"\"\n",
        "    Заменить все числа в списке токенизированных слов текстовым представлением\n",
        "    \"\"\"\n",
        "    return [num2words(word, lang='ru') if word.isdigit() else word for word in words]\n",
        "\n",
        "def remove_eng_words(words):\n",
        "    \"\"\"\n",
        "    Удаление английских символов, слов и небольшая очистка\n",
        "    \"\"\"\n",
        "    substitute = []\n",
        "    new_words = []\n",
        "    substitute_1 = re.sub(u\"[a-zA-Z]\", \" \", ' '.join(words))\n",
        "    substitute_2 = re.sub(r\"(\\d)+.\", \"\\1\", substitute_1)\n",
        "    substitute_3 = re.sub(r\"[\\s]\\s+\", \"\", substitute_2)\n",
        "    new_words = re.sub(r\"\u0001\", \"\", substitute_3)\n",
        "    return new_words\n",
        "\n",
        "def normalize(words):\n",
        "    \"\"\"\n",
        "    Нормализация слов\n",
        "    \"\"\"\n",
        "    words = remove_non_ASCII(words)\n",
        "    words = to_lowercase(words)\n",
        "    words = remove_punctuation(words)\n",
        "    words = replace_numbers(words)\n",
        "    words = remove_stopwords(words)\n",
        "    words = remove_eng_words(words)\n",
        "    return words\n",
        "\n",
        "words = nltk.word_tokenize(sample, language=\"russian\")\n",
        "words = normalize(words)\n",
        "print(words)"
      ]
    },
    {
      "cell_type": "markdown",
      "metadata": {
        "id": "5QOMHBMxz8pj"
      },
      "source": [
        "#Лемматизация/Стемминг"
      ]
    },
    {
      "cell_type": "code",
      "execution_count": null,
      "metadata": {
        "id": "pf5-xdKd0C8J"
      },
      "outputs": [],
      "source": [
        "def stem_words(words):\n",
        "    \"\"\"\n",
        "    Стемминг в списке токенизированных слов\n",
        "    \"\"\"\n",
        "    stemmer = SnowballStemmer(language=\"russian\")\n",
        "    stems = []\n",
        "\n",
        "    for word in words:\n",
        "        stem = stemmer.stem(word)\n",
        "        stems.append(stem)\n",
        "    return stems\n",
        "\n",
        "last_words = nltk.word_tokenize(words, language=\"russian\")\n",
        "stems = stem_words(last_words)\n",
        "print('Исходные лексемы:\\n', stems)"
      ]
    },
    {
      "cell_type": "code",
      "execution_count": null,
      "metadata": {
        "id": "wmab3ZyQtuku"
      },
      "outputs": [],
      "source": [
        "sentences = sent_tokenize(words, language='russian')\n",
        "nlp = spacy.load(\"ru_core_news_sm\")\n",
        "doc = nlp(words)\n",
        "cnt = 0\n",
        "\n",
        "for token in doc:\n",
        "    if cnt == 10:\n",
        "        break\n",
        "    print(token.text, token.dep_, token.head)\n",
        "    cnt += 1"
      ]
    },
    {
      "cell_type": "code",
      "execution_count": 17,
      "metadata": {
        "colab": {
          "base_uri": "https://localhost:8080/",
          "height": 440
        },
        "id": "SOvLBeV6vSjU",
        "outputId": "177e809f-e9d4-46c9-a1a8-f9dc295a106e"
      },
      "outputs": [
        {
          "output_type": "display_data",
          "data": {
            "text/plain": [
              "<IPython.core.display.HTML object>"
            ],
            "text/html": [
              "<span class=\"tex2jax_ignore\"><svg xmlns=\"http://www.w3.org/2000/svg\" xmlns:xlink=\"http://www.w3.org/1999/xlink\" xml:lang=\"ru\" id=\"bde8b15e4c74442eb47e12e1496e0ac1-0\" class=\"displacy\" width=\"1975\" height=\"399.5\" direction=\"ltr\" style=\"max-width: none; height: 399.5px; color: #000000; background: #ffffff; font-family: Arial; direction: ltr\">\n",
              "<text class=\"displacy-token\" fill=\"currentColor\" text-anchor=\"middle\" y=\"309.5\">\n",
              "    <tspan class=\"displacy-word\" fill=\"currentColor\" x=\"50\">федерациягосударство</tspan>\n",
              "    <tspan class=\"displacy-tag\" dy=\"2em\" fill=\"currentColor\" x=\"50\">NOUN</tspan>\n",
              "</text>\n",
              "\n",
              "<text class=\"displacy-token\" fill=\"currentColor\" text-anchor=\"middle\" y=\"309.5\">\n",
              "    <tspan class=\"displacy-word\" fill=\"currentColor\" x=\"225\">восточнои</tspan>\n",
              "    <tspan class=\"displacy-tag\" dy=\"2em\" fill=\"currentColor\" x=\"225\">VERB</tspan>\n",
              "</text>\n",
              "\n",
              "<text class=\"displacy-token\" fill=\"currentColor\" text-anchor=\"middle\" y=\"309.5\">\n",
              "    <tspan class=\"displacy-word\" fill=\"currentColor\" x=\"400\">европе</tspan>\n",
              "    <tspan class=\"displacy-tag\" dy=\"2em\" fill=\"currentColor\" x=\"400\">PROPN</tspan>\n",
              "</text>\n",
              "\n",
              "<text class=\"displacy-token\" fill=\"currentColor\" text-anchor=\"middle\" y=\"309.5\">\n",
              "    <tspan class=\"displacy-word\" fill=\"currentColor\" x=\"575\">севернои</tspan>\n",
              "    <tspan class=\"displacy-tag\" dy=\"2em\" fill=\"currentColor\" x=\"575\">VERB</tspan>\n",
              "</text>\n",
              "\n",
              "<text class=\"displacy-token\" fill=\"currentColor\" text-anchor=\"middle\" y=\"309.5\">\n",
              "    <tspan class=\"displacy-word\" fill=\"currentColor\" x=\"750\">азиироссиякрупнеишее</tspan>\n",
              "    <tspan class=\"displacy-tag\" dy=\"2em\" fill=\"currentColor\" x=\"750\">ADJ</tspan>\n",
              "</text>\n",
              "\n",
              "<text class=\"displacy-token\" fill=\"currentColor\" text-anchor=\"middle\" y=\"309.5\">\n",
              "    <tspan class=\"displacy-word\" fill=\"currentColor\" x=\"925\">государство</tspan>\n",
              "    <tspan class=\"displacy-tag\" dy=\"2em\" fill=\"currentColor\" x=\"925\">NOUN</tspan>\n",
              "</text>\n",
              "\n",
              "<text class=\"displacy-token\" fill=\"currentColor\" text-anchor=\"middle\" y=\"309.5\">\n",
              "    <tspan class=\"displacy-word\" fill=\"currentColor\" x=\"1100\">миретерритория</tspan>\n",
              "    <tspan class=\"displacy-tag\" dy=\"2em\" fill=\"currentColor\" x=\"1100\">NOUN</tspan>\n",
              "</text>\n",
              "\n",
              "<text class=\"displacy-token\" fill=\"currentColor\" text-anchor=\"middle\" y=\"309.5\">\n",
              "    <tspan class=\"displacy-word\" fill=\"currentColor\" x=\"1275\">международно</tspan>\n",
              "    <tspan class=\"displacy-tag\" dy=\"2em\" fill=\"currentColor\" x=\"1275\">ADV</tspan>\n",
              "</text>\n",
              "\n",
              "<text class=\"displacy-token\" fill=\"currentColor\" text-anchor=\"middle\" y=\"309.5\">\n",
              "    <tspan class=\"displacy-word\" fill=\"currentColor\" x=\"1450\">признанных</tspan>\n",
              "    <tspan class=\"displacy-tag\" dy=\"2em\" fill=\"currentColor\" x=\"1450\">VERB</tspan>\n",
              "</text>\n",
              "\n",
              "<text class=\"displacy-token\" fill=\"currentColor\" text-anchor=\"middle\" y=\"309.5\">\n",
              "    <tspan class=\"displacy-word\" fill=\"currentColor\" x=\"1625\">границах</tspan>\n",
              "    <tspan class=\"displacy-tag\" dy=\"2em\" fill=\"currentColor\" x=\"1625\">NOUN</tspan>\n",
              "</text>\n",
              "\n",
              "<text class=\"displacy-token\" fill=\"currentColor\" text-anchor=\"middle\" y=\"309.5\">\n",
              "    <tspan class=\"displacy-word\" fill=\"currentColor\" x=\"1800\">составляет</tspan>\n",
              "    <tspan class=\"displacy-tag\" dy=\"2em\" fill=\"currentColor\" x=\"1800\">VERB</tspan>\n",
              "</text>\n",
              "\n",
              "<g class=\"displacy-arrow\">\n",
              "    <path class=\"displacy-arc\" id=\"arrow-bde8b15e4c74442eb47e12e1496e0ac1-0-0\" stroke-width=\"2px\" d=\"M70,264.5 C70,177.0 215.0,177.0 215.0,264.5\" fill=\"none\" stroke=\"currentColor\"/>\n",
              "    <text dy=\"1.25em\" style=\"font-size: 0.8em; letter-spacing: 1px\">\n",
              "        <textPath xlink:href=\"#arrow-bde8b15e4c74442eb47e12e1496e0ac1-0-0\" class=\"displacy-label\" startOffset=\"50%\" side=\"left\" fill=\"currentColor\" text-anchor=\"middle\">dep</textPath>\n",
              "    </text>\n",
              "    <path class=\"displacy-arrowhead\" d=\"M70,266.5 L62,254.5 78,254.5\" fill=\"currentColor\"/>\n",
              "</g>\n",
              "\n",
              "<g class=\"displacy-arrow\">\n",
              "    <path class=\"displacy-arc\" id=\"arrow-bde8b15e4c74442eb47e12e1496e0ac1-0-1\" stroke-width=\"2px\" d=\"M245,264.5 C245,177.0 390.0,177.0 390.0,264.5\" fill=\"none\" stroke=\"currentColor\"/>\n",
              "    <text dy=\"1.25em\" style=\"font-size: 0.8em; letter-spacing: 1px\">\n",
              "        <textPath xlink:href=\"#arrow-bde8b15e4c74442eb47e12e1496e0ac1-0-1\" class=\"displacy-label\" startOffset=\"50%\" side=\"left\" fill=\"currentColor\" text-anchor=\"middle\">iobj</textPath>\n",
              "    </text>\n",
              "    <path class=\"displacy-arrowhead\" d=\"M390.0,266.5 L398.0,254.5 382.0,254.5\" fill=\"currentColor\"/>\n",
              "</g>\n",
              "\n",
              "<g class=\"displacy-arrow\">\n",
              "    <path class=\"displacy-arc\" id=\"arrow-bde8b15e4c74442eb47e12e1496e0ac1-0-2\" stroke-width=\"2px\" d=\"M245,264.5 C245,89.5 570.0,89.5 570.0,264.5\" fill=\"none\" stroke=\"currentColor\"/>\n",
              "    <text dy=\"1.25em\" style=\"font-size: 0.8em; letter-spacing: 1px\">\n",
              "        <textPath xlink:href=\"#arrow-bde8b15e4c74442eb47e12e1496e0ac1-0-2\" class=\"displacy-label\" startOffset=\"50%\" side=\"left\" fill=\"currentColor\" text-anchor=\"middle\">obj</textPath>\n",
              "    </text>\n",
              "    <path class=\"displacy-arrowhead\" d=\"M570.0,266.5 L578.0,254.5 562.0,254.5\" fill=\"currentColor\"/>\n",
              "</g>\n",
              "\n",
              "<g class=\"displacy-arrow\">\n",
              "    <path class=\"displacy-arc\" id=\"arrow-bde8b15e4c74442eb47e12e1496e0ac1-0-3\" stroke-width=\"2px\" d=\"M770,264.5 C770,177.0 915.0,177.0 915.0,264.5\" fill=\"none\" stroke=\"currentColor\"/>\n",
              "    <text dy=\"1.25em\" style=\"font-size: 0.8em; letter-spacing: 1px\">\n",
              "        <textPath xlink:href=\"#arrow-bde8b15e4c74442eb47e12e1496e0ac1-0-3\" class=\"displacy-label\" startOffset=\"50%\" side=\"left\" fill=\"currentColor\" text-anchor=\"middle\">amod</textPath>\n",
              "    </text>\n",
              "    <path class=\"displacy-arrowhead\" d=\"M770,266.5 L762,254.5 778,254.5\" fill=\"currentColor\"/>\n",
              "</g>\n",
              "\n",
              "<g class=\"displacy-arrow\">\n",
              "    <path class=\"displacy-arc\" id=\"arrow-bde8b15e4c74442eb47e12e1496e0ac1-0-4\" stroke-width=\"2px\" d=\"M595,264.5 C595,89.5 920.0,89.5 920.0,264.5\" fill=\"none\" stroke=\"currentColor\"/>\n",
              "    <text dy=\"1.25em\" style=\"font-size: 0.8em; letter-spacing: 1px\">\n",
              "        <textPath xlink:href=\"#arrow-bde8b15e4c74442eb47e12e1496e0ac1-0-4\" class=\"displacy-label\" startOffset=\"50%\" side=\"left\" fill=\"currentColor\" text-anchor=\"middle\">obj</textPath>\n",
              "    </text>\n",
              "    <path class=\"displacy-arrowhead\" d=\"M920.0,266.5 L928.0,254.5 912.0,254.5\" fill=\"currentColor\"/>\n",
              "</g>\n",
              "\n",
              "<g class=\"displacy-arrow\">\n",
              "    <path class=\"displacy-arc\" id=\"arrow-bde8b15e4c74442eb47e12e1496e0ac1-0-5\" stroke-width=\"2px\" d=\"M945,264.5 C945,177.0 1090.0,177.0 1090.0,264.5\" fill=\"none\" stroke=\"currentColor\"/>\n",
              "    <text dy=\"1.25em\" style=\"font-size: 0.8em; letter-spacing: 1px\">\n",
              "        <textPath xlink:href=\"#arrow-bde8b15e4c74442eb47e12e1496e0ac1-0-5\" class=\"displacy-label\" startOffset=\"50%\" side=\"left\" fill=\"currentColor\" text-anchor=\"middle\">nmod</textPath>\n",
              "    </text>\n",
              "    <path class=\"displacy-arrowhead\" d=\"M1090.0,266.5 L1098.0,254.5 1082.0,254.5\" fill=\"currentColor\"/>\n",
              "</g>\n",
              "\n",
              "<g class=\"displacy-arrow\">\n",
              "    <path class=\"displacy-arc\" id=\"arrow-bde8b15e4c74442eb47e12e1496e0ac1-0-6\" stroke-width=\"2px\" d=\"M1295,264.5 C1295,177.0 1440.0,177.0 1440.0,264.5\" fill=\"none\" stroke=\"currentColor\"/>\n",
              "    <text dy=\"1.25em\" style=\"font-size: 0.8em; letter-spacing: 1px\">\n",
              "        <textPath xlink:href=\"#arrow-bde8b15e4c74442eb47e12e1496e0ac1-0-6\" class=\"displacy-label\" startOffset=\"50%\" side=\"left\" fill=\"currentColor\" text-anchor=\"middle\">advmod</textPath>\n",
              "    </text>\n",
              "    <path class=\"displacy-arrowhead\" d=\"M1295,266.5 L1287,254.5 1303,254.5\" fill=\"currentColor\"/>\n",
              "</g>\n",
              "\n",
              "<g class=\"displacy-arrow\">\n",
              "    <path class=\"displacy-arc\" id=\"arrow-bde8b15e4c74442eb47e12e1496e0ac1-0-7\" stroke-width=\"2px\" d=\"M1470,264.5 C1470,177.0 1615.0,177.0 1615.0,264.5\" fill=\"none\" stroke=\"currentColor\"/>\n",
              "    <text dy=\"1.25em\" style=\"font-size: 0.8em; letter-spacing: 1px\">\n",
              "        <textPath xlink:href=\"#arrow-bde8b15e4c74442eb47e12e1496e0ac1-0-7\" class=\"displacy-label\" startOffset=\"50%\" side=\"left\" fill=\"currentColor\" text-anchor=\"middle\">acl</textPath>\n",
              "    </text>\n",
              "    <path class=\"displacy-arrowhead\" d=\"M1470,266.5 L1462,254.5 1478,254.5\" fill=\"currentColor\"/>\n",
              "</g>\n",
              "\n",
              "<g class=\"displacy-arrow\">\n",
              "    <path class=\"displacy-arc\" id=\"arrow-bde8b15e4c74442eb47e12e1496e0ac1-0-8\" stroke-width=\"2px\" d=\"M1120,264.5 C1120,89.5 1620.0,89.5 1620.0,264.5\" fill=\"none\" stroke=\"currentColor\"/>\n",
              "    <text dy=\"1.25em\" style=\"font-size: 0.8em; letter-spacing: 1px\">\n",
              "        <textPath xlink:href=\"#arrow-bde8b15e4c74442eb47e12e1496e0ac1-0-8\" class=\"displacy-label\" startOffset=\"50%\" side=\"left\" fill=\"currentColor\" text-anchor=\"middle\">nmod</textPath>\n",
              "    </text>\n",
              "    <path class=\"displacy-arrowhead\" d=\"M1620.0,266.5 L1628.0,254.5 1612.0,254.5\" fill=\"currentColor\"/>\n",
              "</g>\n",
              "\n",
              "<g class=\"displacy-arrow\">\n",
              "    <path class=\"displacy-arc\" id=\"arrow-bde8b15e4c74442eb47e12e1496e0ac1-0-9\" stroke-width=\"2px\" d=\"M245,264.5 C245,2.0 1800.0,2.0 1800.0,264.5\" fill=\"none\" stroke=\"currentColor\"/>\n",
              "    <text dy=\"1.25em\" style=\"font-size: 0.8em; letter-spacing: 1px\">\n",
              "        <textPath xlink:href=\"#arrow-bde8b15e4c74442eb47e12e1496e0ac1-0-9\" class=\"displacy-label\" startOffset=\"50%\" side=\"left\" fill=\"currentColor\" text-anchor=\"middle\">conj</textPath>\n",
              "    </text>\n",
              "    <path class=\"displacy-arrowhead\" d=\"M1800.0,266.5 L1808.0,254.5 1792.0,254.5\" fill=\"currentColor\"/>\n",
              "</g>\n",
              "</svg></span>"
            ]
          },
          "metadata": {}
        }
      ],
      "source": [
        "displacy.render(doc[2:13], style='dep', jupyter=True)"
      ]
    },
    {
      "cell_type": "code",
      "execution_count": null,
      "metadata": {
        "id": "uX9KbXOK6dzX"
      },
      "outputs": [],
      "source": [
        "# gensim токены\n",
        "gen_tokens = [word for word in tokenize(words)]\n",
        "print(f'gensim: {gen_tokens[25:35]}')\n",
        "\n",
        "# Использование Razdel + Natasha\n",
        "doc = Doc(words)\n",
        "segmenter = Segmenter()\n",
        "doc.segment(segmenter)\n",
        "emb = NewsEmbedding()\n",
        "morph_tagger = NewsMorphTagger(emb)\n",
        "doc.tag_morph(morph_tagger)\n",
        "print(f'\\nRazdel + Natasha: {doc.tokens[:5]}')\n",
        "print(doc.sents[:5])\n",
        "\n",
        "# Использование библиотеки pymystem3\n",
        "m = Mystem()\n",
        "lemmas = m.lemmatize(words)\n",
        "print(f'\\npymystem3: {lemmas[5:15]}')\n",
        "print(m.analyze(words)[5:10])"
      ]
    }
  ],
  "metadata": {
    "colab": {
      "provenance": [],
      "authorship_tag": "ABX9TyMk+mCecDZufQU/75ACucF8",
      "include_colab_link": true
    },
    "kernelspec": {
      "display_name": "Python 3",
      "name": "python3"
    },
    "language_info": {
      "name": "python"
    }
  },
  "nbformat": 4,
  "nbformat_minor": 0
}
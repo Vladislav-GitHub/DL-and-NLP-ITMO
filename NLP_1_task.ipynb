{
  "cells": [
    {
      "cell_type": "markdown",
      "metadata": {
        "id": "CGKVjxr2PCu_"
      },
      "source": [
        "#Загрузка данных"
      ]
    },
    {
      "cell_type": "code",
      "execution_count": null,
      "metadata": {
        "id": "D9-pcj7NWPgG"
      },
      "outputs": [],
      "source": [
        "import re\n",
        "import nltk\n",
        "import contractions\n",
        "import numpy as np\n",
        "import unicodedata as ucd\n",
        "import spacy\n",
        "from corus import load_wiki\n",
        "from nltk.corpus import stopwords\n",
        "from num2words import num2words\n",
        "from razdel import tokenize, sentenize\n",
        "from pymystem3 import Mystem\n",
        "from nltk.stem import SnowballStemmer, WordNetLemmatizer\n",
        "from nltk.tokenize import sent_tokenize\n",
        "from spacy import displacy\n",
        "from gensim.utils import tokenize\n",
        "from nltk import word_tokenize\n",
        "from natasha import Doc, Segmenter, NewsEmbedding, NewsMorphTagger"
      ]
    },
    {
      "cell_type": "code",
      "execution_count": null,
      "metadata": {
        "colab": {
          "background_save": true
        },
        "id": "JRHEhfVABYqY"
      },
      "outputs": [],
      "source": [
        "!pip install corus\n",
        "!pip install razdel\n",
        "!pip install contractions\n",
        "!pip install num2words\n",
        "!python3 -m spacy download ru_core_news_sm\n",
        "!pip install natasha\n",
        "!pip install pymystem3\n",
        "!wget https://dumps.wikimedia.org/ruwiki/latest/ruwiki-latest-pages-articles.xml.bz2"
      ]
    },
    {
      "cell_type": "code",
      "execution_count": null,
      "metadata": {
        "colab": {
          "background_save": true
        },
        "id": "LLnGhGcYcDzn"
      },
      "outputs": [],
      "source": [
        "np.random.seed(42)\n",
        "nltk.download('stopwords')\n",
        "nltk.download('wordnet')\n",
        "nltk.download('punkt')\n",
        "stop_words = set(stopwords.words(\"russian\"))"
      ]
    },
    {
      "cell_type": "code",
      "execution_count": null,
      "metadata": {
        "colab": {
          "background_save": true
        },
        "id": "gHkuMjNgIT6t"
      },
      "outputs": [],
      "source": [
        "path = '/content/ruwiki-latest-pages-articles.xml.bz2'\n",
        "records = load_wiki(path)\n",
        "next(records)"
      ]
    },
    {
      "cell_type": "code",
      "execution_count": null,
      "metadata": {
        "colab": {
          "background_save": true
        },
        "id": "ASDzWmDPIo3n"
      },
      "outputs": [],
      "source": [
        "dataset = [next(records).text.lower() for _ in range(1000)]\n",
        "print(dataset[0])\n",
        "\n",
        "# Предложения\n",
        "sentences = [_.text for _ in list(sentenize(dataset[0]))]\n",
        "print(sentences[0])"
      ]
    },
    {
      "cell_type": "markdown",
      "metadata": {
        "id": "fPh0ndP1zqvk"
      },
      "source": [
        "#Удаление стоп-слов"
      ]
    },
    {
      "cell_type": "code",
      "execution_count": null,
      "metadata": {
        "colab": {
          "background_save": true
        },
        "id": "59nCd6i7zv-x"
      },
      "outputs": [],
      "source": [
        "def remove_stopwords(words):\n",
        "    \"\"\"\n",
        "    Удаление стоп-слов из списка токенизированных слов\n",
        "    \"\"\"\n",
        "    new_words = []\n",
        "\n",
        "    for word in words:\n",
        "        if word not in stop_words:\n",
        "            new_words.append(word)\n",
        "    return new_words"
      ]
    },
    {
      "cell_type": "markdown",
      "metadata": {
        "id": "60R2OF9NQvG_"
      },
      "source": [
        "#Нормализация"
      ]
    },
    {
      "cell_type": "code",
      "execution_count": null,
      "metadata": {
        "colab": {
          "background_save": true
        },
        "id": "4BRFcIKnX6fQ"
      },
      "outputs": [],
      "source": [
        "def replace_contractions(text):\n",
        "    \"\"\"\n",
        "    Заменить сокращения в тексте\n",
        "    \"\"\"\n",
        "    return contractions.fix(text)\n",
        "\n",
        "\n",
        "sample = replace_contractions(dataset[0])\n",
        "print(sample)\n",
        "words = nltk.word_tokenize(sample)\n",
        "print(words)"
      ]
    },
    {
      "cell_type": "code",
      "execution_count": null,
      "metadata": {
        "colab": {
          "background_save": true
        },
        "id": "n0-D2tccVqqu"
      },
      "outputs": [],
      "source": [
        "def remove_non_ASCII(words):\n",
        "    \"\"\"\n",
        "    Удаление символов, не являющихся символами ASCII, из списка токенизированных слов\n",
        "    \"\"\"\n",
        "    new_words = []\n",
        "\n",
        "    for word in words:\n",
        "      new_word = ucd.normalize('NFKD', word)\n",
        "      new_words.append(new_word)\n",
        "    return new_words\n",
        "\n",
        "\n",
        "def to_lowercase(words):\n",
        "    \"\"\"\n",
        "    Преобразование всех символов в строчные из списка токенизированных слов\n",
        "    \"\"\"\n",
        "    new_words = []\n",
        "\n",
        "    for word in words:\n",
        "        new_word = word.lower()\n",
        "        new_words.append(new_word)\n",
        "    return new_words\n",
        "\n",
        "def remove_punctuation(words):\n",
        "    \"\"\"\n",
        "    Удаление знаков препинания из списка токенизированных слов\n",
        "    \"\"\"\n",
        "    new_words = []\n",
        "\n",
        "    for word in words:\n",
        "        new_word = re.sub(r'[^\\w\\s]', '', word)\n",
        "        if new_word != '':\n",
        "            new_words.append(new_word)\n",
        "    return new_words\n",
        "\n",
        "def replace_numbers(words):\n",
        "    \"\"\"\n",
        "    Заменить все числа в списке токенизированных слов текстовым представлением\n",
        "    \"\"\"\n",
        "    new_words = []\n",
        "\n",
        "    for word in words:\n",
        "        if word.isdigit():\n",
        "            new_word = num2words(word, lang='ru')\n",
        "            new_words.append(new_word)\n",
        "        else:\n",
        "            new_words.append(word)\n",
        "    return new_words\n",
        "\n",
        "def remove_eng_words(words):\n",
        "    \"\"\"\n",
        "    Удаление английских символов, слов и небольшая очистка\n",
        "    \"\"\"\n",
        "    substitute = []\n",
        "    new_words = []\n",
        "    substitute_1 = re.sub(u\"[a-zA-Z]\", \" \", ' '.join(words))\n",
        "    substitute_2 = re.sub(r\"(\\d)+.\", \"\\1\", substitute_1)\n",
        "    substitute_3 = re.sub(r\"[\\s]\\s+\", \"\", substitute_2)\n",
        "    new_words = re.sub(r\"\u0001\", \"\", substitute_3)\n",
        "    return new_words\n",
        "\n",
        "def normalize(words):\n",
        "    \"\"\"\n",
        "    Нормализация слов\n",
        "    \"\"\"\n",
        "    words = remove_non_ASCII(words)\n",
        "    words = to_lowercase(words)\n",
        "    words = remove_punctuation(words)\n",
        "    words = replace_numbers(words)\n",
        "    words = remove_stopwords(words)\n",
        "    words = remove_eng_words(words)\n",
        "    return words\n",
        "\n",
        "words = nltk.word_tokenize(sample)\n",
        "words = normalize(words)\n",
        "print(words)"
      ]
    },
    {
      "cell_type": "markdown",
      "metadata": {
        "id": "5QOMHBMxz8pj"
      },
      "source": [
        "#Лемматизация/Стемминг"
      ]
    },
    {
      "cell_type": "code",
      "execution_count": null,
      "metadata": {
        "colab": {
          "background_save": true
        },
        "id": "pf5-xdKd0C8J"
      },
      "outputs": [],
      "source": [
        "def stem_words(language, words):\n",
        "    \"\"\"\n",
        "    Стемминг в списке токенизированных слов\n",
        "    \"\"\"\n",
        "    stemmer = SnowballStemmer(language)\n",
        "    stems = []\n",
        "\n",
        "    for word in words:\n",
        "        stem = stemmer.stem(word)\n",
        "        stems.append(stem)\n",
        "    return stems\n",
        "\n",
        "def lemmatize_verbs(words):\n",
        "    \"\"\"\n",
        "    Лемматизировать глаголы в списке токенизированных слов\n",
        "    \"\"\"\n",
        "    lemmatizer = WordNetLemmatizer()\n",
        "    lemmas = []\n",
        "\n",
        "    for word in words:\n",
        "        lemma = lemmatizer.lemmatize(word, pos='v')\n",
        "        lemmas.append(lemma)\n",
        "    return lemmas\n",
        "\n",
        "def stem_and_lemmatize(words):\n",
        "    stems = stem_words('russian', words)\n",
        "    lemmas = lemmatize_verbs(words)\n",
        "    return stems, lemmas\n",
        "\n",
        "last_words = nltk.word_tokenize(words)\n",
        "stems, lemmas = stem_and_lemmatize(last_words)\n",
        "print('Исходные лексемы:\\n', stems)\n",
        "print('Результат лемматизации:\\n', lemmas)"
      ]
    },
    {
      "cell_type": "code",
      "execution_count": null,
      "metadata": {
        "colab": {
          "background_save": true
        },
        "id": "wmab3ZyQtuku"
      },
      "outputs": [],
      "source": [
        "sentences = sent_tokenize(words, language='russian')\n",
        "nlp = spacy.load(\"ru_core_news_sm\")\n",
        "doc = nlp(words)\n",
        "cnt = 0\n",
        "\n",
        "for token in doc:\n",
        "    if cnt == 10:\n",
        "        break\n",
        "    print(token.text, token.dep_, token.head)\n",
        "    cnt += 1"
      ]
    },
    {
      "cell_type": "code",
      "execution_count": null,
      "metadata": {
        "colab": {
          "background_save": true
        },
        "id": "SOvLBeV6vSjU",
        "outputId": "8e34d403-8aef-4880-f784-1559f1e22764"
      },
      "outputs": [
        {
          "data": {
            "text/html": [
              "<span class=\"tex2jax_ignore\"><svg xmlns=\"http://www.w3.org/2000/svg\" xmlns:xlink=\"http://www.w3.org/1999/xlink\" xml:lang=\"ru\" id=\"35f9883472724574a745e69c7dbfc9d3-0\" class=\"displacy\" width=\"1975\" height=\"312.0\" direction=\"ltr\" style=\"max-width: none; height: 312.0px; color: #000000; background: #ffffff; font-family: Arial; direction: ltr\">\n",
              "<text class=\"displacy-token\" fill=\"currentColor\" text-anchor=\"middle\" y=\"222.0\">\n",
              "    <tspan class=\"displacy-word\" fill=\"currentColor\" x=\"50\">россииская</tspan>\n",
              "    <tspan class=\"displacy-tag\" dy=\"2em\" fill=\"currentColor\" x=\"50\">ADJ</tspan>\n",
              "</text>\n",
              "\n",
              "<text class=\"displacy-token\" fill=\"currentColor\" text-anchor=\"middle\" y=\"222.0\">\n",
              "    <tspan class=\"displacy-word\" fill=\"currentColor\" x=\"225\">федерация</tspan>\n",
              "    <tspan class=\"displacy-tag\" dy=\"2em\" fill=\"currentColor\" x=\"225\">NOUN</tspan>\n",
              "</text>\n",
              "\n",
              "<text class=\"displacy-token\" fill=\"currentColor\" text-anchor=\"middle\" y=\"222.0\">\n",
              "    <tspan class=\"displacy-word\" fill=\"currentColor\" x=\"400\">государство</tspan>\n",
              "    <tspan class=\"displacy-tag\" dy=\"2em\" fill=\"currentColor\" x=\"400\">NOUN</tspan>\n",
              "</text>\n",
              "\n",
              "<text class=\"displacy-token\" fill=\"currentColor\" text-anchor=\"middle\" y=\"222.0\">\n",
              "    <tspan class=\"displacy-word\" fill=\"currentColor\" x=\"575\">восточнои</tspan>\n",
              "    <tspan class=\"displacy-tag\" dy=\"2em\" fill=\"currentColor\" x=\"575\">VERB</tspan>\n",
              "</text>\n",
              "\n",
              "<text class=\"displacy-token\" fill=\"currentColor\" text-anchor=\"middle\" y=\"222.0\">\n",
              "    <tspan class=\"displacy-word\" fill=\"currentColor\" x=\"750\">европе</tspan>\n",
              "    <tspan class=\"displacy-tag\" dy=\"2em\" fill=\"currentColor\" x=\"750\">PROPN</tspan>\n",
              "</text>\n",
              "\n",
              "<text class=\"displacy-token\" fill=\"currentColor\" text-anchor=\"middle\" y=\"222.0\">\n",
              "    <tspan class=\"displacy-word\" fill=\"currentColor\" x=\"925\">севернои</tspan>\n",
              "    <tspan class=\"displacy-tag\" dy=\"2em\" fill=\"currentColor\" x=\"925\">VERB</tspan>\n",
              "</text>\n",
              "\n",
              "<text class=\"displacy-token\" fill=\"currentColor\" text-anchor=\"middle\" y=\"222.0\">\n",
              "    <tspan class=\"displacy-word\" fill=\"currentColor\" x=\"1100\">азии</tspan>\n",
              "    <tspan class=\"displacy-tag\" dy=\"2em\" fill=\"currentColor\" x=\"1100\">PROPN</tspan>\n",
              "</text>\n",
              "\n",
              "<text class=\"displacy-token\" fill=\"currentColor\" text-anchor=\"middle\" y=\"222.0\">\n",
              "    <tspan class=\"displacy-word\" fill=\"currentColor\" x=\"1275\">россия</tspan>\n",
              "    <tspan class=\"displacy-tag\" dy=\"2em\" fill=\"currentColor\" x=\"1275\">PROPN</tspan>\n",
              "</text>\n",
              "\n",
              "<text class=\"displacy-token\" fill=\"currentColor\" text-anchor=\"middle\" y=\"222.0\">\n",
              "    <tspan class=\"displacy-word\" fill=\"currentColor\" x=\"1450\">крупнеишее</tspan>\n",
              "    <tspan class=\"displacy-tag\" dy=\"2em\" fill=\"currentColor\" x=\"1450\">ADJ</tspan>\n",
              "</text>\n",
              "\n",
              "<text class=\"displacy-token\" fill=\"currentColor\" text-anchor=\"middle\" y=\"222.0\">\n",
              "    <tspan class=\"displacy-word\" fill=\"currentColor\" x=\"1625\">государство</tspan>\n",
              "    <tspan class=\"displacy-tag\" dy=\"2em\" fill=\"currentColor\" x=\"1625\">NOUN</tspan>\n",
              "</text>\n",
              "\n",
              "<text class=\"displacy-token\" fill=\"currentColor\" text-anchor=\"middle\" y=\"222.0\">\n",
              "    <tspan class=\"displacy-word\" fill=\"currentColor\" x=\"1800\">мире</tspan>\n",
              "    <tspan class=\"displacy-tag\" dy=\"2em\" fill=\"currentColor\" x=\"1800\">NOUN</tspan>\n",
              "</text>\n",
              "\n",
              "<g class=\"displacy-arrow\">\n",
              "    <path class=\"displacy-arc\" id=\"arrow-35f9883472724574a745e69c7dbfc9d3-0-0\" stroke-width=\"2px\" d=\"M70,177.0 C70,89.5 220.0,89.5 220.0,177.0\" fill=\"none\" stroke=\"currentColor\"/>\n",
              "    <text dy=\"1.25em\" style=\"font-size: 0.8em; letter-spacing: 1px\">\n",
              "        <textPath xlink:href=\"#arrow-35f9883472724574a745e69c7dbfc9d3-0-0\" class=\"displacy-label\" startOffset=\"50%\" side=\"left\" fill=\"currentColor\" text-anchor=\"middle\">amod</textPath>\n",
              "    </text>\n",
              "    <path class=\"displacy-arrowhead\" d=\"M70,179.0 L62,167.0 78,167.0\" fill=\"currentColor\"/>\n",
              "</g>\n",
              "\n",
              "<g class=\"displacy-arrow\">\n",
              "    <path class=\"displacy-arc\" id=\"arrow-35f9883472724574a745e69c7dbfc9d3-0-1\" stroke-width=\"2px\" d=\"M245,177.0 C245,2.0 575.0,2.0 575.0,177.0\" fill=\"none\" stroke=\"currentColor\"/>\n",
              "    <text dy=\"1.25em\" style=\"font-size: 0.8em; letter-spacing: 1px\">\n",
              "        <textPath xlink:href=\"#arrow-35f9883472724574a745e69c7dbfc9d3-0-1\" class=\"displacy-label\" startOffset=\"50%\" side=\"left\" fill=\"currentColor\" text-anchor=\"middle\">dep</textPath>\n",
              "    </text>\n",
              "    <path class=\"displacy-arrowhead\" d=\"M245,179.0 L237,167.0 253,167.0\" fill=\"currentColor\"/>\n",
              "</g>\n",
              "\n",
              "<g class=\"displacy-arrow\">\n",
              "    <path class=\"displacy-arc\" id=\"arrow-35f9883472724574a745e69c7dbfc9d3-0-2\" stroke-width=\"2px\" d=\"M245,177.0 C245,89.5 395.0,89.5 395.0,177.0\" fill=\"none\" stroke=\"currentColor\"/>\n",
              "    <text dy=\"1.25em\" style=\"font-size: 0.8em; letter-spacing: 1px\">\n",
              "        <textPath xlink:href=\"#arrow-35f9883472724574a745e69c7dbfc9d3-0-2\" class=\"displacy-label\" startOffset=\"50%\" side=\"left\" fill=\"currentColor\" text-anchor=\"middle\">appos</textPath>\n",
              "    </text>\n",
              "    <path class=\"displacy-arrowhead\" d=\"M395.0,179.0 L403.0,167.0 387.0,167.0\" fill=\"currentColor\"/>\n",
              "</g>\n",
              "\n",
              "<g class=\"displacy-arrow\">\n",
              "    <path class=\"displacy-arc\" id=\"arrow-35f9883472724574a745e69c7dbfc9d3-0-3\" stroke-width=\"2px\" d=\"M595,177.0 C595,89.5 745.0,89.5 745.0,177.0\" fill=\"none\" stroke=\"currentColor\"/>\n",
              "    <text dy=\"1.25em\" style=\"font-size: 0.8em; letter-spacing: 1px\">\n",
              "        <textPath xlink:href=\"#arrow-35f9883472724574a745e69c7dbfc9d3-0-3\" class=\"displacy-label\" startOffset=\"50%\" side=\"left\" fill=\"currentColor\" text-anchor=\"middle\">iobj</textPath>\n",
              "    </text>\n",
              "    <path class=\"displacy-arrowhead\" d=\"M745.0,179.0 L753.0,167.0 737.0,167.0\" fill=\"currentColor\"/>\n",
              "</g>\n",
              "\n",
              "<g class=\"displacy-arrow\">\n",
              "    <path class=\"displacy-arc\" id=\"arrow-35f9883472724574a745e69c7dbfc9d3-0-4\" stroke-width=\"2px\" d=\"M595,177.0 C595,2.0 925.0,2.0 925.0,177.0\" fill=\"none\" stroke=\"currentColor\"/>\n",
              "    <text dy=\"1.25em\" style=\"font-size: 0.8em; letter-spacing: 1px\">\n",
              "        <textPath xlink:href=\"#arrow-35f9883472724574a745e69c7dbfc9d3-0-4\" class=\"displacy-label\" startOffset=\"50%\" side=\"left\" fill=\"currentColor\" text-anchor=\"middle\">obj</textPath>\n",
              "    </text>\n",
              "    <path class=\"displacy-arrowhead\" d=\"M925.0,179.0 L933.0,167.0 917.0,167.0\" fill=\"currentColor\"/>\n",
              "</g>\n",
              "\n",
              "<g class=\"displacy-arrow\">\n",
              "    <path class=\"displacy-arc\" id=\"arrow-35f9883472724574a745e69c7dbfc9d3-0-5\" stroke-width=\"2px\" d=\"M945,177.0 C945,89.5 1095.0,89.5 1095.0,177.0\" fill=\"none\" stroke=\"currentColor\"/>\n",
              "    <text dy=\"1.25em\" style=\"font-size: 0.8em; letter-spacing: 1px\">\n",
              "        <textPath xlink:href=\"#arrow-35f9883472724574a745e69c7dbfc9d3-0-5\" class=\"displacy-label\" startOffset=\"50%\" side=\"left\" fill=\"currentColor\" text-anchor=\"middle\">nmod</textPath>\n",
              "    </text>\n",
              "    <path class=\"displacy-arrowhead\" d=\"M1095.0,179.0 L1103.0,167.0 1087.0,167.0\" fill=\"currentColor\"/>\n",
              "</g>\n",
              "\n",
              "<g class=\"displacy-arrow\">\n",
              "    <path class=\"displacy-arc\" id=\"arrow-35f9883472724574a745e69c7dbfc9d3-0-6\" stroke-width=\"2px\" d=\"M945,177.0 C945,2.0 1275.0,2.0 1275.0,177.0\" fill=\"none\" stroke=\"currentColor\"/>\n",
              "    <text dy=\"1.25em\" style=\"font-size: 0.8em; letter-spacing: 1px\">\n",
              "        <textPath xlink:href=\"#arrow-35f9883472724574a745e69c7dbfc9d3-0-6\" class=\"displacy-label\" startOffset=\"50%\" side=\"left\" fill=\"currentColor\" text-anchor=\"middle\">appos</textPath>\n",
              "    </text>\n",
              "    <path class=\"displacy-arrowhead\" d=\"M1275.0,179.0 L1283.0,167.0 1267.0,167.0\" fill=\"currentColor\"/>\n",
              "</g>\n",
              "\n",
              "<g class=\"displacy-arrow\">\n",
              "    <path class=\"displacy-arc\" id=\"arrow-35f9883472724574a745e69c7dbfc9d3-0-7\" stroke-width=\"2px\" d=\"M1470,177.0 C1470,89.5 1620.0,89.5 1620.0,177.0\" fill=\"none\" stroke=\"currentColor\"/>\n",
              "    <text dy=\"1.25em\" style=\"font-size: 0.8em; letter-spacing: 1px\">\n",
              "        <textPath xlink:href=\"#arrow-35f9883472724574a745e69c7dbfc9d3-0-7\" class=\"displacy-label\" startOffset=\"50%\" side=\"left\" fill=\"currentColor\" text-anchor=\"middle\">amod</textPath>\n",
              "    </text>\n",
              "    <path class=\"displacy-arrowhead\" d=\"M1470,179.0 L1462,167.0 1478,167.0\" fill=\"currentColor\"/>\n",
              "</g>\n",
              "\n",
              "<g class=\"displacy-arrow\">\n",
              "    <path class=\"displacy-arc\" id=\"arrow-35f9883472724574a745e69c7dbfc9d3-0-8\" stroke-width=\"2px\" d=\"M1295,177.0 C1295,2.0 1625.0,2.0 1625.0,177.0\" fill=\"none\" stroke=\"currentColor\"/>\n",
              "    <text dy=\"1.25em\" style=\"font-size: 0.8em; letter-spacing: 1px\">\n",
              "        <textPath xlink:href=\"#arrow-35f9883472724574a745e69c7dbfc9d3-0-8\" class=\"displacy-label\" startOffset=\"50%\" side=\"left\" fill=\"currentColor\" text-anchor=\"middle\">appos</textPath>\n",
              "    </text>\n",
              "    <path class=\"displacy-arrowhead\" d=\"M1625.0,179.0 L1633.0,167.0 1617.0,167.0\" fill=\"currentColor\"/>\n",
              "</g>\n",
              "\n",
              "<g class=\"displacy-arrow\">\n",
              "    <path class=\"displacy-arc\" id=\"arrow-35f9883472724574a745e69c7dbfc9d3-0-9\" stroke-width=\"2px\" d=\"M1645,177.0 C1645,89.5 1795.0,89.5 1795.0,177.0\" fill=\"none\" stroke=\"currentColor\"/>\n",
              "    <text dy=\"1.25em\" style=\"font-size: 0.8em; letter-spacing: 1px\">\n",
              "        <textPath xlink:href=\"#arrow-35f9883472724574a745e69c7dbfc9d3-0-9\" class=\"displacy-label\" startOffset=\"50%\" side=\"left\" fill=\"currentColor\" text-anchor=\"middle\">nmod</textPath>\n",
              "    </text>\n",
              "    <path class=\"displacy-arrowhead\" d=\"M1795.0,179.0 L1803.0,167.0 1787.0,167.0\" fill=\"currentColor\"/>\n",
              "</g>\n",
              "</svg></span>"
            ],
            "text/plain": [
              "<IPython.core.display.HTML object>"
            ]
          },
          "metadata": {},
          "output_type": "display_data"
        }
      ],
      "source": [
        "displacy.render(doc[2:13], style='dep', jupyter=True)"
      ]
    },
    {
      "cell_type": "code",
      "execution_count": null,
      "metadata": {
        "colab": {
          "background_save": true
        },
        "id": "uX9KbXOK6dzX"
      },
      "outputs": [],
      "source": [
        "# gensim токены\n",
        "gen_tokens = [word for word in tokenize(words)]\n",
        "print(f'gensim: {gen_tokens[25:35]}')\n",
        "\n",
        "# Использование лемматизатора WordNet\n",
        "wnl = WordNetLemmatizer()\n",
        "word_net_lemmas = [(word, wnl.lemmatize(word)) for word in gen_tokens]\n",
        "print(f'\\nWordNet: {word_net_lemmas[5:24]}\\n')\n",
        "\n",
        "# Использование Razdel + Natasha\n",
        "doc = Doc(words)\n",
        "segmenter = Segmenter()\n",
        "doc.segment(segmenter)\n",
        "emb = NewsEmbedding()\n",
        "morph_tagger = NewsMorphTagger(emb)\n",
        "doc.tag_morph(morph_tagger)\n",
        "print(f'Razdel + Natasha: {doc.tokens[:5]}')\n",
        "print(doc.sents[:5])\n",
        "\n",
        "# Использование библиотеки pymystem3\n",
        "m = Mystem()\n",
        "lemmas = m.lemmatize(words)\n",
        "print(f'\\npymystem3: {lemmas[5:15]}')\n",
        "print(m.analyze(words)[5:10])"
      ]
    }
  ],
  "metadata": {
    "colab": {
      "provenance": [],
      "authorship_tag": "ABX9TyNqZcDIzuQFb9uHncNyMfvq"
    },
    "kernelspec": {
      "display_name": "Python 3",
      "name": "python3"
    },
    "language_info": {
      "name": "python"
    }
  },
  "nbformat": 4,
  "nbformat_minor": 0
}
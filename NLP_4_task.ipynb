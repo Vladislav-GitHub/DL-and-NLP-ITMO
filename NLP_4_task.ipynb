{
  "nbformat": 4,
  "nbformat_minor": 0,
  "metadata": {
    "colab": {
      "provenance": [],
      "toc_visible": true,
      "gpuType": "T4",
      "authorship_tag": "ABX9TyP9npnblaWI5w56jF1+3YB5",
      "include_colab_link": true
    },
    "kernelspec": {
      "name": "python3",
      "display_name": "Python 3"
    },
    "language_info": {
      "name": "python"
    },
    "widgets": {
      "application/vnd.jupyter.widget-state+json": {
        "977db03f99f64ea8ab8f13144134628c": {
          "model_module": "@jupyter-widgets/controls",
          "model_name": "HBoxModel",
          "model_module_version": "1.5.0",
          "state": {
            "_dom_classes": [],
            "_model_module": "@jupyter-widgets/controls",
            "_model_module_version": "1.5.0",
            "_model_name": "HBoxModel",
            "_view_count": null,
            "_view_module": "@jupyter-widgets/controls",
            "_view_module_version": "1.5.0",
            "_view_name": "HBoxView",
            "box_style": "",
            "children": [
              "IPY_MODEL_9b0f909da9234196891cd5eb3280f09b",
              "IPY_MODEL_162f0e0de78b4758ac08bde449eda1bd",
              "IPY_MODEL_b9ea7f5009f741e8bec50cee275bdd02"
            ],
            "layout": "IPY_MODEL_ba9015d6bfb44747a2afc2c00f1aaf94"
          }
        },
        "9b0f909da9234196891cd5eb3280f09b": {
          "model_module": "@jupyter-widgets/controls",
          "model_name": "HTMLModel",
          "model_module_version": "1.5.0",
          "state": {
            "_dom_classes": [],
            "_model_module": "@jupyter-widgets/controls",
            "_model_module_version": "1.5.0",
            "_model_name": "HTMLModel",
            "_view_count": null,
            "_view_module": "@jupyter-widgets/controls",
            "_view_module_version": "1.5.0",
            "_view_name": "HTMLView",
            "description": "",
            "description_tooltip": null,
            "layout": "IPY_MODEL_f059d41f80904cf3b2f3203c30ede8a3",
            "placeholder": "​",
            "style": "IPY_MODEL_5e50423454e140e39ef3644b88dd0168",
            "value": "100%"
          }
        },
        "162f0e0de78b4758ac08bde449eda1bd": {
          "model_module": "@jupyter-widgets/controls",
          "model_name": "FloatProgressModel",
          "model_module_version": "1.5.0",
          "state": {
            "_dom_classes": [],
            "_model_module": "@jupyter-widgets/controls",
            "_model_module_version": "1.5.0",
            "_model_name": "FloatProgressModel",
            "_view_count": null,
            "_view_module": "@jupyter-widgets/controls",
            "_view_module_version": "1.5.0",
            "_view_name": "ProgressView",
            "bar_style": "success",
            "description": "",
            "description_tooltip": null,
            "layout": "IPY_MODEL_f6feb74623194902860737f11beab26e",
            "max": 26938,
            "min": 0,
            "orientation": "horizontal",
            "style": "IPY_MODEL_eb9ddfe0b42a403ca4d0645d45eab362",
            "value": 26938
          }
        },
        "b9ea7f5009f741e8bec50cee275bdd02": {
          "model_module": "@jupyter-widgets/controls",
          "model_name": "HTMLModel",
          "model_module_version": "1.5.0",
          "state": {
            "_dom_classes": [],
            "_model_module": "@jupyter-widgets/controls",
            "_model_module_version": "1.5.0",
            "_model_name": "HTMLModel",
            "_view_count": null,
            "_view_module": "@jupyter-widgets/controls",
            "_view_module_version": "1.5.0",
            "_view_name": "HTMLView",
            "description": "",
            "description_tooltip": null,
            "layout": "IPY_MODEL_07654d9318c5468a845894873838f746",
            "placeholder": "​",
            "style": "IPY_MODEL_bdbe36f007694563a0b1bdb90fe00a66",
            "value": " 26938/26938 [00:00&lt;00:00, 69302.66it/s]"
          }
        },
        "ba9015d6bfb44747a2afc2c00f1aaf94": {
          "model_module": "@jupyter-widgets/base",
          "model_name": "LayoutModel",
          "model_module_version": "1.2.0",
          "state": {
            "_model_module": "@jupyter-widgets/base",
            "_model_module_version": "1.2.0",
            "_model_name": "LayoutModel",
            "_view_count": null,
            "_view_module": "@jupyter-widgets/base",
            "_view_module_version": "1.2.0",
            "_view_name": "LayoutView",
            "align_content": null,
            "align_items": null,
            "align_self": null,
            "border": null,
            "bottom": null,
            "display": null,
            "flex": null,
            "flex_flow": null,
            "grid_area": null,
            "grid_auto_columns": null,
            "grid_auto_flow": null,
            "grid_auto_rows": null,
            "grid_column": null,
            "grid_gap": null,
            "grid_row": null,
            "grid_template_areas": null,
            "grid_template_columns": null,
            "grid_template_rows": null,
            "height": null,
            "justify_content": null,
            "justify_items": null,
            "left": null,
            "margin": null,
            "max_height": null,
            "max_width": null,
            "min_height": null,
            "min_width": null,
            "object_fit": null,
            "object_position": null,
            "order": null,
            "overflow": null,
            "overflow_x": null,
            "overflow_y": null,
            "padding": null,
            "right": null,
            "top": null,
            "visibility": null,
            "width": null
          }
        },
        "f059d41f80904cf3b2f3203c30ede8a3": {
          "model_module": "@jupyter-widgets/base",
          "model_name": "LayoutModel",
          "model_module_version": "1.2.0",
          "state": {
            "_model_module": "@jupyter-widgets/base",
            "_model_module_version": "1.2.0",
            "_model_name": "LayoutModel",
            "_view_count": null,
            "_view_module": "@jupyter-widgets/base",
            "_view_module_version": "1.2.0",
            "_view_name": "LayoutView",
            "align_content": null,
            "align_items": null,
            "align_self": null,
            "border": null,
            "bottom": null,
            "display": null,
            "flex": null,
            "flex_flow": null,
            "grid_area": null,
            "grid_auto_columns": null,
            "grid_auto_flow": null,
            "grid_auto_rows": null,
            "grid_column": null,
            "grid_gap": null,
            "grid_row": null,
            "grid_template_areas": null,
            "grid_template_columns": null,
            "grid_template_rows": null,
            "height": null,
            "justify_content": null,
            "justify_items": null,
            "left": null,
            "margin": null,
            "max_height": null,
            "max_width": null,
            "min_height": null,
            "min_width": null,
            "object_fit": null,
            "object_position": null,
            "order": null,
            "overflow": null,
            "overflow_x": null,
            "overflow_y": null,
            "padding": null,
            "right": null,
            "top": null,
            "visibility": null,
            "width": null
          }
        },
        "5e50423454e140e39ef3644b88dd0168": {
          "model_module": "@jupyter-widgets/controls",
          "model_name": "DescriptionStyleModel",
          "model_module_version": "1.5.0",
          "state": {
            "_model_module": "@jupyter-widgets/controls",
            "_model_module_version": "1.5.0",
            "_model_name": "DescriptionStyleModel",
            "_view_count": null,
            "_view_module": "@jupyter-widgets/base",
            "_view_module_version": "1.2.0",
            "_view_name": "StyleView",
            "description_width": ""
          }
        },
        "f6feb74623194902860737f11beab26e": {
          "model_module": "@jupyter-widgets/base",
          "model_name": "LayoutModel",
          "model_module_version": "1.2.0",
          "state": {
            "_model_module": "@jupyter-widgets/base",
            "_model_module_version": "1.2.0",
            "_model_name": "LayoutModel",
            "_view_count": null,
            "_view_module": "@jupyter-widgets/base",
            "_view_module_version": "1.2.0",
            "_view_name": "LayoutView",
            "align_content": null,
            "align_items": null,
            "align_self": null,
            "border": null,
            "bottom": null,
            "display": null,
            "flex": null,
            "flex_flow": null,
            "grid_area": null,
            "grid_auto_columns": null,
            "grid_auto_flow": null,
            "grid_auto_rows": null,
            "grid_column": null,
            "grid_gap": null,
            "grid_row": null,
            "grid_template_areas": null,
            "grid_template_columns": null,
            "grid_template_rows": null,
            "height": null,
            "justify_content": null,
            "justify_items": null,
            "left": null,
            "margin": null,
            "max_height": null,
            "max_width": null,
            "min_height": null,
            "min_width": null,
            "object_fit": null,
            "object_position": null,
            "order": null,
            "overflow": null,
            "overflow_x": null,
            "overflow_y": null,
            "padding": null,
            "right": null,
            "top": null,
            "visibility": null,
            "width": null
          }
        },
        "eb9ddfe0b42a403ca4d0645d45eab362": {
          "model_module": "@jupyter-widgets/controls",
          "model_name": "ProgressStyleModel",
          "model_module_version": "1.5.0",
          "state": {
            "_model_module": "@jupyter-widgets/controls",
            "_model_module_version": "1.5.0",
            "_model_name": "ProgressStyleModel",
            "_view_count": null,
            "_view_module": "@jupyter-widgets/base",
            "_view_module_version": "1.2.0",
            "_view_name": "StyleView",
            "bar_color": null,
            "description_width": ""
          }
        },
        "07654d9318c5468a845894873838f746": {
          "model_module": "@jupyter-widgets/base",
          "model_name": "LayoutModel",
          "model_module_version": "1.2.0",
          "state": {
            "_model_module": "@jupyter-widgets/base",
            "_model_module_version": "1.2.0",
            "_model_name": "LayoutModel",
            "_view_count": null,
            "_view_module": "@jupyter-widgets/base",
            "_view_module_version": "1.2.0",
            "_view_name": "LayoutView",
            "align_content": null,
            "align_items": null,
            "align_self": null,
            "border": null,
            "bottom": null,
            "display": null,
            "flex": null,
            "flex_flow": null,
            "grid_area": null,
            "grid_auto_columns": null,
            "grid_auto_flow": null,
            "grid_auto_rows": null,
            "grid_column": null,
            "grid_gap": null,
            "grid_row": null,
            "grid_template_areas": null,
            "grid_template_columns": null,
            "grid_template_rows": null,
            "height": null,
            "justify_content": null,
            "justify_items": null,
            "left": null,
            "margin": null,
            "max_height": null,
            "max_width": null,
            "min_height": null,
            "min_width": null,
            "object_fit": null,
            "object_position": null,
            "order": null,
            "overflow": null,
            "overflow_x": null,
            "overflow_y": null,
            "padding": null,
            "right": null,
            "top": null,
            "visibility": null,
            "width": null
          }
        },
        "bdbe36f007694563a0b1bdb90fe00a66": {
          "model_module": "@jupyter-widgets/controls",
          "model_name": "DescriptionStyleModel",
          "model_module_version": "1.5.0",
          "state": {
            "_model_module": "@jupyter-widgets/controls",
            "_model_module_version": "1.5.0",
            "_model_name": "DescriptionStyleModel",
            "_view_count": null,
            "_view_module": "@jupyter-widgets/base",
            "_view_module_version": "1.2.0",
            "_view_name": "StyleView",
            "description_width": ""
          }
        },
        "4bad5cc578a04b7fb1ef289ff538bfec": {
          "model_module": "@jupyter-widgets/controls",
          "model_name": "HBoxModel",
          "model_module_version": "1.5.0",
          "state": {
            "_dom_classes": [],
            "_model_module": "@jupyter-widgets/controls",
            "_model_module_version": "1.5.0",
            "_model_name": "HBoxModel",
            "_view_count": null,
            "_view_module": "@jupyter-widgets/controls",
            "_view_module_version": "1.5.0",
            "_view_name": "HBoxView",
            "box_style": "",
            "children": [
              "IPY_MODEL_d089e6e5559548b1b51c21f00764c3ea",
              "IPY_MODEL_a8157edb8ef94f1c92dcd3c125de4887",
              "IPY_MODEL_681c5d869c0e4252a192175d26880fa7"
            ],
            "layout": "IPY_MODEL_8294bad279be40eaad55b04195c99719"
          }
        },
        "d089e6e5559548b1b51c21f00764c3ea": {
          "model_module": "@jupyter-widgets/controls",
          "model_name": "HTMLModel",
          "model_module_version": "1.5.0",
          "state": {
            "_dom_classes": [],
            "_model_module": "@jupyter-widgets/controls",
            "_model_module_version": "1.5.0",
            "_model_name": "HTMLModel",
            "_view_count": null,
            "_view_module": "@jupyter-widgets/controls",
            "_view_module_version": "1.5.0",
            "_view_name": "HTMLView",
            "description": "",
            "description_tooltip": null,
            "layout": "IPY_MODEL_08aef2ac189d4ff18b236cd27ed3bf6f",
            "placeholder": "​",
            "style": "IPY_MODEL_fa4bffca39574a8eb3c49e9c8ebb9fc6",
            "value": "100%"
          }
        },
        "a8157edb8ef94f1c92dcd3c125de4887": {
          "model_module": "@jupyter-widgets/controls",
          "model_name": "FloatProgressModel",
          "model_module_version": "1.5.0",
          "state": {
            "_dom_classes": [],
            "_model_module": "@jupyter-widgets/controls",
            "_model_module_version": "1.5.0",
            "_model_name": "FloatProgressModel",
            "_view_count": null,
            "_view_module": "@jupyter-widgets/controls",
            "_view_module_version": "1.5.0",
            "_view_name": "ProgressView",
            "bar_style": "success",
            "description": "",
            "description_tooltip": null,
            "layout": "IPY_MODEL_16fdadf459fc444f9d4c404d110560d0",
            "max": 26938,
            "min": 0,
            "orientation": "horizontal",
            "style": "IPY_MODEL_678bc98818a3431fb7b707918f0271c0",
            "value": 26938
          }
        },
        "681c5d869c0e4252a192175d26880fa7": {
          "model_module": "@jupyter-widgets/controls",
          "model_name": "HTMLModel",
          "model_module_version": "1.5.0",
          "state": {
            "_dom_classes": [],
            "_model_module": "@jupyter-widgets/controls",
            "_model_module_version": "1.5.0",
            "_model_name": "HTMLModel",
            "_view_count": null,
            "_view_module": "@jupyter-widgets/controls",
            "_view_module_version": "1.5.0",
            "_view_name": "HTMLView",
            "description": "",
            "description_tooltip": null,
            "layout": "IPY_MODEL_c06f224f44064def973b8dd91336f4f7",
            "placeholder": "​",
            "style": "IPY_MODEL_1d7e1659d40041828cc9ece8d8a337e5",
            "value": " 26938/26938 [00:40&lt;00:00, 466.08it/s]"
          }
        },
        "8294bad279be40eaad55b04195c99719": {
          "model_module": "@jupyter-widgets/base",
          "model_name": "LayoutModel",
          "model_module_version": "1.2.0",
          "state": {
            "_model_module": "@jupyter-widgets/base",
            "_model_module_version": "1.2.0",
            "_model_name": "LayoutModel",
            "_view_count": null,
            "_view_module": "@jupyter-widgets/base",
            "_view_module_version": "1.2.0",
            "_view_name": "LayoutView",
            "align_content": null,
            "align_items": null,
            "align_self": null,
            "border": null,
            "bottom": null,
            "display": null,
            "flex": null,
            "flex_flow": null,
            "grid_area": null,
            "grid_auto_columns": null,
            "grid_auto_flow": null,
            "grid_auto_rows": null,
            "grid_column": null,
            "grid_gap": null,
            "grid_row": null,
            "grid_template_areas": null,
            "grid_template_columns": null,
            "grid_template_rows": null,
            "height": null,
            "justify_content": null,
            "justify_items": null,
            "left": null,
            "margin": null,
            "max_height": null,
            "max_width": null,
            "min_height": null,
            "min_width": null,
            "object_fit": null,
            "object_position": null,
            "order": null,
            "overflow": null,
            "overflow_x": null,
            "overflow_y": null,
            "padding": null,
            "right": null,
            "top": null,
            "visibility": null,
            "width": null
          }
        },
        "08aef2ac189d4ff18b236cd27ed3bf6f": {
          "model_module": "@jupyter-widgets/base",
          "model_name": "LayoutModel",
          "model_module_version": "1.2.0",
          "state": {
            "_model_module": "@jupyter-widgets/base",
            "_model_module_version": "1.2.0",
            "_model_name": "LayoutModel",
            "_view_count": null,
            "_view_module": "@jupyter-widgets/base",
            "_view_module_version": "1.2.0",
            "_view_name": "LayoutView",
            "align_content": null,
            "align_items": null,
            "align_self": null,
            "border": null,
            "bottom": null,
            "display": null,
            "flex": null,
            "flex_flow": null,
            "grid_area": null,
            "grid_auto_columns": null,
            "grid_auto_flow": null,
            "grid_auto_rows": null,
            "grid_column": null,
            "grid_gap": null,
            "grid_row": null,
            "grid_template_areas": null,
            "grid_template_columns": null,
            "grid_template_rows": null,
            "height": null,
            "justify_content": null,
            "justify_items": null,
            "left": null,
            "margin": null,
            "max_height": null,
            "max_width": null,
            "min_height": null,
            "min_width": null,
            "object_fit": null,
            "object_position": null,
            "order": null,
            "overflow": null,
            "overflow_x": null,
            "overflow_y": null,
            "padding": null,
            "right": null,
            "top": null,
            "visibility": null,
            "width": null
          }
        },
        "fa4bffca39574a8eb3c49e9c8ebb9fc6": {
          "model_module": "@jupyter-widgets/controls",
          "model_name": "DescriptionStyleModel",
          "model_module_version": "1.5.0",
          "state": {
            "_model_module": "@jupyter-widgets/controls",
            "_model_module_version": "1.5.0",
            "_model_name": "DescriptionStyleModel",
            "_view_count": null,
            "_view_module": "@jupyter-widgets/base",
            "_view_module_version": "1.2.0",
            "_view_name": "StyleView",
            "description_width": ""
          }
        },
        "16fdadf459fc444f9d4c404d110560d0": {
          "model_module": "@jupyter-widgets/base",
          "model_name": "LayoutModel",
          "model_module_version": "1.2.0",
          "state": {
            "_model_module": "@jupyter-widgets/base",
            "_model_module_version": "1.2.0",
            "_model_name": "LayoutModel",
            "_view_count": null,
            "_view_module": "@jupyter-widgets/base",
            "_view_module_version": "1.2.0",
            "_view_name": "LayoutView",
            "align_content": null,
            "align_items": null,
            "align_self": null,
            "border": null,
            "bottom": null,
            "display": null,
            "flex": null,
            "flex_flow": null,
            "grid_area": null,
            "grid_auto_columns": null,
            "grid_auto_flow": null,
            "grid_auto_rows": null,
            "grid_column": null,
            "grid_gap": null,
            "grid_row": null,
            "grid_template_areas": null,
            "grid_template_columns": null,
            "grid_template_rows": null,
            "height": null,
            "justify_content": null,
            "justify_items": null,
            "left": null,
            "margin": null,
            "max_height": null,
            "max_width": null,
            "min_height": null,
            "min_width": null,
            "object_fit": null,
            "object_position": null,
            "order": null,
            "overflow": null,
            "overflow_x": null,
            "overflow_y": null,
            "padding": null,
            "right": null,
            "top": null,
            "visibility": null,
            "width": null
          }
        },
        "678bc98818a3431fb7b707918f0271c0": {
          "model_module": "@jupyter-widgets/controls",
          "model_name": "ProgressStyleModel",
          "model_module_version": "1.5.0",
          "state": {
            "_model_module": "@jupyter-widgets/controls",
            "_model_module_version": "1.5.0",
            "_model_name": "ProgressStyleModel",
            "_view_count": null,
            "_view_module": "@jupyter-widgets/base",
            "_view_module_version": "1.2.0",
            "_view_name": "StyleView",
            "bar_color": null,
            "description_width": ""
          }
        },
        "c06f224f44064def973b8dd91336f4f7": {
          "model_module": "@jupyter-widgets/base",
          "model_name": "LayoutModel",
          "model_module_version": "1.2.0",
          "state": {
            "_model_module": "@jupyter-widgets/base",
            "_model_module_version": "1.2.0",
            "_model_name": "LayoutModel",
            "_view_count": null,
            "_view_module": "@jupyter-widgets/base",
            "_view_module_version": "1.2.0",
            "_view_name": "LayoutView",
            "align_content": null,
            "align_items": null,
            "align_self": null,
            "border": null,
            "bottom": null,
            "display": null,
            "flex": null,
            "flex_flow": null,
            "grid_area": null,
            "grid_auto_columns": null,
            "grid_auto_flow": null,
            "grid_auto_rows": null,
            "grid_column": null,
            "grid_gap": null,
            "grid_row": null,
            "grid_template_areas": null,
            "grid_template_columns": null,
            "grid_template_rows": null,
            "height": null,
            "justify_content": null,
            "justify_items": null,
            "left": null,
            "margin": null,
            "max_height": null,
            "max_width": null,
            "min_height": null,
            "min_width": null,
            "object_fit": null,
            "object_position": null,
            "order": null,
            "overflow": null,
            "overflow_x": null,
            "overflow_y": null,
            "padding": null,
            "right": null,
            "top": null,
            "visibility": null,
            "width": null
          }
        },
        "1d7e1659d40041828cc9ece8d8a337e5": {
          "model_module": "@jupyter-widgets/controls",
          "model_name": "DescriptionStyleModel",
          "model_module_version": "1.5.0",
          "state": {
            "_model_module": "@jupyter-widgets/controls",
            "_model_module_version": "1.5.0",
            "_model_name": "DescriptionStyleModel",
            "_view_count": null,
            "_view_module": "@jupyter-widgets/base",
            "_view_module_version": "1.2.0",
            "_view_name": "StyleView",
            "description_width": ""
          }
        },
        "def585aac9e14732bb5698027ceca6ef": {
          "model_module": "@jupyter-widgets/controls",
          "model_name": "HBoxModel",
          "model_module_version": "1.5.0",
          "state": {
            "_dom_classes": [],
            "_model_module": "@jupyter-widgets/controls",
            "_model_module_version": "1.5.0",
            "_model_name": "HBoxModel",
            "_view_count": null,
            "_view_module": "@jupyter-widgets/controls",
            "_view_module_version": "1.5.0",
            "_view_name": "HBoxView",
            "box_style": "",
            "children": [
              "IPY_MODEL_a5564600df604d52be7dd139a1722484",
              "IPY_MODEL_5b41330209b5440192992d35db89e746",
              "IPY_MODEL_39b8af9b55754ff9818319ea73d0429c"
            ],
            "layout": "IPY_MODEL_8bddf0ecee9d4e178c2ba4cc56a74222"
          }
        },
        "a5564600df604d52be7dd139a1722484": {
          "model_module": "@jupyter-widgets/controls",
          "model_name": "HTMLModel",
          "model_module_version": "1.5.0",
          "state": {
            "_dom_classes": [],
            "_model_module": "@jupyter-widgets/controls",
            "_model_module_version": "1.5.0",
            "_model_name": "HTMLModel",
            "_view_count": null,
            "_view_module": "@jupyter-widgets/controls",
            "_view_module_version": "1.5.0",
            "_view_name": "HTMLView",
            "description": "",
            "description_tooltip": null,
            "layout": "IPY_MODEL_1a7573cea5834c7f9b73bb5c9b9c405c",
            "placeholder": "​",
            "style": "IPY_MODEL_5c6719f646844d76b881201202e36b03",
            "value": "100%"
          }
        },
        "5b41330209b5440192992d35db89e746": {
          "model_module": "@jupyter-widgets/controls",
          "model_name": "FloatProgressModel",
          "model_module_version": "1.5.0",
          "state": {
            "_dom_classes": [],
            "_model_module": "@jupyter-widgets/controls",
            "_model_module_version": "1.5.0",
            "_model_name": "FloatProgressModel",
            "_view_count": null,
            "_view_module": "@jupyter-widgets/controls",
            "_view_module_version": "1.5.0",
            "_view_name": "ProgressView",
            "bar_style": "success",
            "description": "",
            "description_tooltip": null,
            "layout": "IPY_MODEL_545d49a310d94202a3d0b9d5eaa638f8",
            "max": 5388,
            "min": 0,
            "orientation": "horizontal",
            "style": "IPY_MODEL_4ea5772ca16e4dfd93c6671f53545f21",
            "value": 5388
          }
        },
        "39b8af9b55754ff9818319ea73d0429c": {
          "model_module": "@jupyter-widgets/controls",
          "model_name": "HTMLModel",
          "model_module_version": "1.5.0",
          "state": {
            "_dom_classes": [],
            "_model_module": "@jupyter-widgets/controls",
            "_model_module_version": "1.5.0",
            "_model_name": "HTMLModel",
            "_view_count": null,
            "_view_module": "@jupyter-widgets/controls",
            "_view_module_version": "1.5.0",
            "_view_name": "HTMLView",
            "description": "",
            "description_tooltip": null,
            "layout": "IPY_MODEL_c1c54f7400ab45e49b9792a9fd151bc1",
            "placeholder": "​",
            "style": "IPY_MODEL_68637e20e5a04837b7f0a776f9bbb34f",
            "value": " 5388/5388 [00:06&lt;00:00, 780.77it/s]"
          }
        },
        "8bddf0ecee9d4e178c2ba4cc56a74222": {
          "model_module": "@jupyter-widgets/base",
          "model_name": "LayoutModel",
          "model_module_version": "1.2.0",
          "state": {
            "_model_module": "@jupyter-widgets/base",
            "_model_module_version": "1.2.0",
            "_model_name": "LayoutModel",
            "_view_count": null,
            "_view_module": "@jupyter-widgets/base",
            "_view_module_version": "1.2.0",
            "_view_name": "LayoutView",
            "align_content": null,
            "align_items": null,
            "align_self": null,
            "border": null,
            "bottom": null,
            "display": null,
            "flex": null,
            "flex_flow": null,
            "grid_area": null,
            "grid_auto_columns": null,
            "grid_auto_flow": null,
            "grid_auto_rows": null,
            "grid_column": null,
            "grid_gap": null,
            "grid_row": null,
            "grid_template_areas": null,
            "grid_template_columns": null,
            "grid_template_rows": null,
            "height": null,
            "justify_content": null,
            "justify_items": null,
            "left": null,
            "margin": null,
            "max_height": null,
            "max_width": null,
            "min_height": null,
            "min_width": null,
            "object_fit": null,
            "object_position": null,
            "order": null,
            "overflow": null,
            "overflow_x": null,
            "overflow_y": null,
            "padding": null,
            "right": null,
            "top": null,
            "visibility": null,
            "width": null
          }
        },
        "1a7573cea5834c7f9b73bb5c9b9c405c": {
          "model_module": "@jupyter-widgets/base",
          "model_name": "LayoutModel",
          "model_module_version": "1.2.0",
          "state": {
            "_model_module": "@jupyter-widgets/base",
            "_model_module_version": "1.2.0",
            "_model_name": "LayoutModel",
            "_view_count": null,
            "_view_module": "@jupyter-widgets/base",
            "_view_module_version": "1.2.0",
            "_view_name": "LayoutView",
            "align_content": null,
            "align_items": null,
            "align_self": null,
            "border": null,
            "bottom": null,
            "display": null,
            "flex": null,
            "flex_flow": null,
            "grid_area": null,
            "grid_auto_columns": null,
            "grid_auto_flow": null,
            "grid_auto_rows": null,
            "grid_column": null,
            "grid_gap": null,
            "grid_row": null,
            "grid_template_areas": null,
            "grid_template_columns": null,
            "grid_template_rows": null,
            "height": null,
            "justify_content": null,
            "justify_items": null,
            "left": null,
            "margin": null,
            "max_height": null,
            "max_width": null,
            "min_height": null,
            "min_width": null,
            "object_fit": null,
            "object_position": null,
            "order": null,
            "overflow": null,
            "overflow_x": null,
            "overflow_y": null,
            "padding": null,
            "right": null,
            "top": null,
            "visibility": null,
            "width": null
          }
        },
        "5c6719f646844d76b881201202e36b03": {
          "model_module": "@jupyter-widgets/controls",
          "model_name": "DescriptionStyleModel",
          "model_module_version": "1.5.0",
          "state": {
            "_model_module": "@jupyter-widgets/controls",
            "_model_module_version": "1.5.0",
            "_model_name": "DescriptionStyleModel",
            "_view_count": null,
            "_view_module": "@jupyter-widgets/base",
            "_view_module_version": "1.2.0",
            "_view_name": "StyleView",
            "description_width": ""
          }
        },
        "545d49a310d94202a3d0b9d5eaa638f8": {
          "model_module": "@jupyter-widgets/base",
          "model_name": "LayoutModel",
          "model_module_version": "1.2.0",
          "state": {
            "_model_module": "@jupyter-widgets/base",
            "_model_module_version": "1.2.0",
            "_model_name": "LayoutModel",
            "_view_count": null,
            "_view_module": "@jupyter-widgets/base",
            "_view_module_version": "1.2.0",
            "_view_name": "LayoutView",
            "align_content": null,
            "align_items": null,
            "align_self": null,
            "border": null,
            "bottom": null,
            "display": null,
            "flex": null,
            "flex_flow": null,
            "grid_area": null,
            "grid_auto_columns": null,
            "grid_auto_flow": null,
            "grid_auto_rows": null,
            "grid_column": null,
            "grid_gap": null,
            "grid_row": null,
            "grid_template_areas": null,
            "grid_template_columns": null,
            "grid_template_rows": null,
            "height": null,
            "justify_content": null,
            "justify_items": null,
            "left": null,
            "margin": null,
            "max_height": null,
            "max_width": null,
            "min_height": null,
            "min_width": null,
            "object_fit": null,
            "object_position": null,
            "order": null,
            "overflow": null,
            "overflow_x": null,
            "overflow_y": null,
            "padding": null,
            "right": null,
            "top": null,
            "visibility": null,
            "width": null
          }
        },
        "4ea5772ca16e4dfd93c6671f53545f21": {
          "model_module": "@jupyter-widgets/controls",
          "model_name": "ProgressStyleModel",
          "model_module_version": "1.5.0",
          "state": {
            "_model_module": "@jupyter-widgets/controls",
            "_model_module_version": "1.5.0",
            "_model_name": "ProgressStyleModel",
            "_view_count": null,
            "_view_module": "@jupyter-widgets/base",
            "_view_module_version": "1.2.0",
            "_view_name": "StyleView",
            "bar_color": null,
            "description_width": ""
          }
        },
        "c1c54f7400ab45e49b9792a9fd151bc1": {
          "model_module": "@jupyter-widgets/base",
          "model_name": "LayoutModel",
          "model_module_version": "1.2.0",
          "state": {
            "_model_module": "@jupyter-widgets/base",
            "_model_module_version": "1.2.0",
            "_model_name": "LayoutModel",
            "_view_count": null,
            "_view_module": "@jupyter-widgets/base",
            "_view_module_version": "1.2.0",
            "_view_name": "LayoutView",
            "align_content": null,
            "align_items": null,
            "align_self": null,
            "border": null,
            "bottom": null,
            "display": null,
            "flex": null,
            "flex_flow": null,
            "grid_area": null,
            "grid_auto_columns": null,
            "grid_auto_flow": null,
            "grid_auto_rows": null,
            "grid_column": null,
            "grid_gap": null,
            "grid_row": null,
            "grid_template_areas": null,
            "grid_template_columns": null,
            "grid_template_rows": null,
            "height": null,
            "justify_content": null,
            "justify_items": null,
            "left": null,
            "margin": null,
            "max_height": null,
            "max_width": null,
            "min_height": null,
            "min_width": null,
            "object_fit": null,
            "object_position": null,
            "order": null,
            "overflow": null,
            "overflow_x": null,
            "overflow_y": null,
            "padding": null,
            "right": null,
            "top": null,
            "visibility": null,
            "width": null
          }
        },
        "68637e20e5a04837b7f0a776f9bbb34f": {
          "model_module": "@jupyter-widgets/controls",
          "model_name": "DescriptionStyleModel",
          "model_module_version": "1.5.0",
          "state": {
            "_model_module": "@jupyter-widgets/controls",
            "_model_module_version": "1.5.0",
            "_model_name": "DescriptionStyleModel",
            "_view_count": null,
            "_view_module": "@jupyter-widgets/base",
            "_view_module_version": "1.2.0",
            "_view_name": "StyleView",
            "description_width": ""
          }
        },
        "71338d877d124c148d5584a497080d22": {
          "model_module": "@jupyter-widgets/controls",
          "model_name": "HBoxModel",
          "model_module_version": "1.5.0",
          "state": {
            "_dom_classes": [],
            "_model_module": "@jupyter-widgets/controls",
            "_model_module_version": "1.5.0",
            "_model_name": "HBoxModel",
            "_view_count": null,
            "_view_module": "@jupyter-widgets/controls",
            "_view_module_version": "1.5.0",
            "_view_name": "HBoxView",
            "box_style": "",
            "children": [
              "IPY_MODEL_14697ade5083495badb9fa92b209082c",
              "IPY_MODEL_7e1d844a6aa2476cb48be72826aa31da",
              "IPY_MODEL_de4ece04b9644a48ab75dd3e20c0fe0f"
            ],
            "layout": "IPY_MODEL_49d7a9f30fc740f89dd5c382cdff0357"
          }
        },
        "14697ade5083495badb9fa92b209082c": {
          "model_module": "@jupyter-widgets/controls",
          "model_name": "HTMLModel",
          "model_module_version": "1.5.0",
          "state": {
            "_dom_classes": [],
            "_model_module": "@jupyter-widgets/controls",
            "_model_module_version": "1.5.0",
            "_model_name": "HTMLModel",
            "_view_count": null,
            "_view_module": "@jupyter-widgets/controls",
            "_view_module_version": "1.5.0",
            "_view_name": "HTMLView",
            "description": "",
            "description_tooltip": null,
            "layout": "IPY_MODEL_0f1edafbeecb42c792f23280fc8662c6",
            "placeholder": "​",
            "style": "IPY_MODEL_1015b689d42544389d673fa7f7673e82",
            "value": "100%"
          }
        },
        "7e1d844a6aa2476cb48be72826aa31da": {
          "model_module": "@jupyter-widgets/controls",
          "model_name": "FloatProgressModel",
          "model_module_version": "1.5.0",
          "state": {
            "_dom_classes": [],
            "_model_module": "@jupyter-widgets/controls",
            "_model_module_version": "1.5.0",
            "_model_name": "FloatProgressModel",
            "_view_count": null,
            "_view_module": "@jupyter-widgets/controls",
            "_view_module_version": "1.5.0",
            "_view_name": "ProgressView",
            "bar_style": "success",
            "description": "",
            "description_tooltip": null,
            "layout": "IPY_MODEL_373d22d676eb44e39b67d403ebb010af",
            "max": 12572,
            "min": 0,
            "orientation": "horizontal",
            "style": "IPY_MODEL_61b5b18bd84644f4b1cc2b3feb019683",
            "value": 12572
          }
        },
        "de4ece04b9644a48ab75dd3e20c0fe0f": {
          "model_module": "@jupyter-widgets/controls",
          "model_name": "HTMLModel",
          "model_module_version": "1.5.0",
          "state": {
            "_dom_classes": [],
            "_model_module": "@jupyter-widgets/controls",
            "_model_module_version": "1.5.0",
            "_model_name": "HTMLModel",
            "_view_count": null,
            "_view_module": "@jupyter-widgets/controls",
            "_view_module_version": "1.5.0",
            "_view_name": "HTMLView",
            "description": "",
            "description_tooltip": null,
            "layout": "IPY_MODEL_df4aae2dfee641fa8c7eba00cd333495",
            "placeholder": "​",
            "style": "IPY_MODEL_91c7aba45f714cf2ab46d226b4ce5d49",
            "value": " 12572/12572 [00:16&lt;00:00, 847.84it/s]"
          }
        },
        "49d7a9f30fc740f89dd5c382cdff0357": {
          "model_module": "@jupyter-widgets/base",
          "model_name": "LayoutModel",
          "model_module_version": "1.2.0",
          "state": {
            "_model_module": "@jupyter-widgets/base",
            "_model_module_version": "1.2.0",
            "_model_name": "LayoutModel",
            "_view_count": null,
            "_view_module": "@jupyter-widgets/base",
            "_view_module_version": "1.2.0",
            "_view_name": "LayoutView",
            "align_content": null,
            "align_items": null,
            "align_self": null,
            "border": null,
            "bottom": null,
            "display": null,
            "flex": null,
            "flex_flow": null,
            "grid_area": null,
            "grid_auto_columns": null,
            "grid_auto_flow": null,
            "grid_auto_rows": null,
            "grid_column": null,
            "grid_gap": null,
            "grid_row": null,
            "grid_template_areas": null,
            "grid_template_columns": null,
            "grid_template_rows": null,
            "height": null,
            "justify_content": null,
            "justify_items": null,
            "left": null,
            "margin": null,
            "max_height": null,
            "max_width": null,
            "min_height": null,
            "min_width": null,
            "object_fit": null,
            "object_position": null,
            "order": null,
            "overflow": null,
            "overflow_x": null,
            "overflow_y": null,
            "padding": null,
            "right": null,
            "top": null,
            "visibility": null,
            "width": null
          }
        },
        "0f1edafbeecb42c792f23280fc8662c6": {
          "model_module": "@jupyter-widgets/base",
          "model_name": "LayoutModel",
          "model_module_version": "1.2.0",
          "state": {
            "_model_module": "@jupyter-widgets/base",
            "_model_module_version": "1.2.0",
            "_model_name": "LayoutModel",
            "_view_count": null,
            "_view_module": "@jupyter-widgets/base",
            "_view_module_version": "1.2.0",
            "_view_name": "LayoutView",
            "align_content": null,
            "align_items": null,
            "align_self": null,
            "border": null,
            "bottom": null,
            "display": null,
            "flex": null,
            "flex_flow": null,
            "grid_area": null,
            "grid_auto_columns": null,
            "grid_auto_flow": null,
            "grid_auto_rows": null,
            "grid_column": null,
            "grid_gap": null,
            "grid_row": null,
            "grid_template_areas": null,
            "grid_template_columns": null,
            "grid_template_rows": null,
            "height": null,
            "justify_content": null,
            "justify_items": null,
            "left": null,
            "margin": null,
            "max_height": null,
            "max_width": null,
            "min_height": null,
            "min_width": null,
            "object_fit": null,
            "object_position": null,
            "order": null,
            "overflow": null,
            "overflow_x": null,
            "overflow_y": null,
            "padding": null,
            "right": null,
            "top": null,
            "visibility": null,
            "width": null
          }
        },
        "1015b689d42544389d673fa7f7673e82": {
          "model_module": "@jupyter-widgets/controls",
          "model_name": "DescriptionStyleModel",
          "model_module_version": "1.5.0",
          "state": {
            "_model_module": "@jupyter-widgets/controls",
            "_model_module_version": "1.5.0",
            "_model_name": "DescriptionStyleModel",
            "_view_count": null,
            "_view_module": "@jupyter-widgets/base",
            "_view_module_version": "1.2.0",
            "_view_name": "StyleView",
            "description_width": ""
          }
        },
        "373d22d676eb44e39b67d403ebb010af": {
          "model_module": "@jupyter-widgets/base",
          "model_name": "LayoutModel",
          "model_module_version": "1.2.0",
          "state": {
            "_model_module": "@jupyter-widgets/base",
            "_model_module_version": "1.2.0",
            "_model_name": "LayoutModel",
            "_view_count": null,
            "_view_module": "@jupyter-widgets/base",
            "_view_module_version": "1.2.0",
            "_view_name": "LayoutView",
            "align_content": null,
            "align_items": null,
            "align_self": null,
            "border": null,
            "bottom": null,
            "display": null,
            "flex": null,
            "flex_flow": null,
            "grid_area": null,
            "grid_auto_columns": null,
            "grid_auto_flow": null,
            "grid_auto_rows": null,
            "grid_column": null,
            "grid_gap": null,
            "grid_row": null,
            "grid_template_areas": null,
            "grid_template_columns": null,
            "grid_template_rows": null,
            "height": null,
            "justify_content": null,
            "justify_items": null,
            "left": null,
            "margin": null,
            "max_height": null,
            "max_width": null,
            "min_height": null,
            "min_width": null,
            "object_fit": null,
            "object_position": null,
            "order": null,
            "overflow": null,
            "overflow_x": null,
            "overflow_y": null,
            "padding": null,
            "right": null,
            "top": null,
            "visibility": null,
            "width": null
          }
        },
        "61b5b18bd84644f4b1cc2b3feb019683": {
          "model_module": "@jupyter-widgets/controls",
          "model_name": "ProgressStyleModel",
          "model_module_version": "1.5.0",
          "state": {
            "_model_module": "@jupyter-widgets/controls",
            "_model_module_version": "1.5.0",
            "_model_name": "ProgressStyleModel",
            "_view_count": null,
            "_view_module": "@jupyter-widgets/base",
            "_view_module_version": "1.2.0",
            "_view_name": "StyleView",
            "bar_color": null,
            "description_width": ""
          }
        },
        "df4aae2dfee641fa8c7eba00cd333495": {
          "model_module": "@jupyter-widgets/base",
          "model_name": "LayoutModel",
          "model_module_version": "1.2.0",
          "state": {
            "_model_module": "@jupyter-widgets/base",
            "_model_module_version": "1.2.0",
            "_model_name": "LayoutModel",
            "_view_count": null,
            "_view_module": "@jupyter-widgets/base",
            "_view_module_version": "1.2.0",
            "_view_name": "LayoutView",
            "align_content": null,
            "align_items": null,
            "align_self": null,
            "border": null,
            "bottom": null,
            "display": null,
            "flex": null,
            "flex_flow": null,
            "grid_area": null,
            "grid_auto_columns": null,
            "grid_auto_flow": null,
            "grid_auto_rows": null,
            "grid_column": null,
            "grid_gap": null,
            "grid_row": null,
            "grid_template_areas": null,
            "grid_template_columns": null,
            "grid_template_rows": null,
            "height": null,
            "justify_content": null,
            "justify_items": null,
            "left": null,
            "margin": null,
            "max_height": null,
            "max_width": null,
            "min_height": null,
            "min_width": null,
            "object_fit": null,
            "object_position": null,
            "order": null,
            "overflow": null,
            "overflow_x": null,
            "overflow_y": null,
            "padding": null,
            "right": null,
            "top": null,
            "visibility": null,
            "width": null
          }
        },
        "91c7aba45f714cf2ab46d226b4ce5d49": {
          "model_module": "@jupyter-widgets/controls",
          "model_name": "DescriptionStyleModel",
          "model_module_version": "1.5.0",
          "state": {
            "_model_module": "@jupyter-widgets/controls",
            "_model_module_version": "1.5.0",
            "_model_name": "DescriptionStyleModel",
            "_view_count": null,
            "_view_module": "@jupyter-widgets/base",
            "_view_module_version": "1.2.0",
            "_view_name": "StyleView",
            "description_width": ""
          }
        }
      }
    },
    "accelerator": "GPU"
  },
  "cells": [
    {
      "cell_type": "markdown",
      "metadata": {
        "id": "view-in-github",
        "colab_type": "text"
      },
      "source": [
        "<a href=\"https://colab.research.google.com/github/Vladislav-GitHub/DL-and-NLP-ITMO-course/blob/hw_4/NLP_4_task.ipynb\" target=\"_parent\"><img src=\"https://colab.research.google.com/assets/colab-badge.svg\" alt=\"Open In Colab\"/></a>"
      ]
    },
    {
      "cell_type": "markdown",
      "source": [
        "#Импорт данных"
      ],
      "metadata": {
        "id": "dMIvHEWCffpH"
      }
    },
    {
      "cell_type": "code",
      "source": [
        "!pip install contractions\n",
        "!pip install -U spacy\n",
        "!python3 -m spacy download en_core_web_sm\n",
        "!pip install num2words\n",
        "!pip install torchmetrics"
      ],
      "metadata": {
        "id": "54PH8amgZq9L"
      },
      "execution_count": null,
      "outputs": []
    },
    {
      "cell_type": "code",
      "source": [
        "import contractions\n",
        "import random\n",
        "import re\n",
        "import nltk\n",
        "import spacy\n",
        "import torch\n",
        "import torch.nn as nn\n",
        "import warnings\n",
        "import numpy as np\n",
        "import pandas as pd\n",
        "import unicodedata as ucd\n",
        "import seaborn as sns\n",
        "import matplotlib.pyplot as plt\n",
        "from itertools import islice\n",
        "from nltk.probability import FreqDist\n",
        "from tqdm.notebook import tqdm\n",
        "from nltk.tokenize import word_tokenize\n",
        "from nltk.corpus import stopwords\n",
        "from nltk.probability import FreqDist\n",
        "from torch.utils.data import DataLoader, Dataset\n",
        "from torchmetrics import F1Score\n",
        "from matplotlib import rcParams\n",
        "from collections import Counter\n",
        "from string import punctuation\n",
        "from num2words import num2words\n",
        "from gensim.models import Word2Vec\n",
        "from nltk.corpus import stopwords\n",
        "from nltk.tokenize import word_tokenize\n",
        "from sklearn.model_selection import train_test_split"
      ],
      "metadata": {
        "id": "cNsvGhJ-G9t8"
      },
      "execution_count": null,
      "outputs": []
    },
    {
      "cell_type": "code",
      "source": [
        "seed = 42\n",
        "random.seed(seed)\n",
        "np.random.seed(seed)\n",
        "torch.manual_seed(seed)\n",
        "warnings.simplefilter(\"ignore\", UserWarning)\n",
        "warnings.simplefilter(\"ignore\", RuntimeWarning)\n",
        "warnings.simplefilter(action='ignore', category=FutureWarning)\n",
        "pd.set_option('max_colwidth', 400)\n",
        "rcParams['figure.figsize'] = 12, 9\n",
        "nltk.download('punkt')\n",
        "nltk.download('stopwords')\n",
        "stopwords = stopwords.words('english')\n",
        "punctuation = list(punctuation)"
      ],
      "metadata": {
        "id": "NXnjL0AdXI39"
      },
      "execution_count": null,
      "outputs": []
    },
    {
      "cell_type": "markdown",
      "source": [
        "#Набор данных"
      ],
      "metadata": {
        "id": "42RKo5gqflZ0"
      }
    },
    {
      "cell_type": "code",
      "execution_count": null,
      "metadata": {
        "id": "O1TrsII2FJ2f"
      },
      "outputs": [],
      "source": [
        "real_news = pd.read_csv(\"True.csv\")\n",
        "real_news['text'] = real_news['text'].apply(lambda x: ' '.join(x.split(' ')[5:]))\n",
        "fake_news = pd.read_csv(\"Fake.csv\")\n",
        "real_news['label'] = 0\n",
        "fake_news['label'] = 1\n",
        "data = pd.concat([real_news, fake_news], ignore_index=True, axis=0)"
      ]
    },
    {
      "cell_type": "code",
      "source": [
        "sns.countplot(x=\"subject\", data=data)\n",
        "plt.show()"
      ],
      "metadata": {
        "colab": {
          "base_uri": "https://localhost:8080/",
          "height": 717
        },
        "id": "j99cZarFSetn",
        "outputId": "bdd8e63b-ec66-4d34-8810-86f35ff2a61a"
      },
      "execution_count": null,
      "outputs": [
        {
          "output_type": "display_data",
          "data": {
            "text/plain": [
              "<Figure size 1170x827 with 1 Axes>"
            ],
            "image/png": "[encoded data removed]"
          },
          "metadata": {}
        }
      ]
    },
    {
      "cell_type": "code",
      "source": [
        "sns.countplot(x=\"label\", data=data)\n",
        "plt.show()"
      ],
      "metadata": {
        "colab": {
          "base_uri": "https://localhost:8080/",
          "height": 717
        },
        "id": "xj0BLn73ShU7",
        "outputId": "d1df8015-d9f2-400f-b018-067b2171c687"
      },
      "execution_count": null,
      "outputs": [
        {
          "output_type": "display_data",
          "data": {
            "text/plain": [
              "<Figure size 1170x827 with 1 Axes>"
            ],
            "image/png": "[encoded data removed]"
          },
          "metadata": {}
        }
      ]
    },
    {
      "cell_type": "markdown",
      "source": [
        "#Предобработка данных"
      ],
      "metadata": {
        "id": "ebhLhf_ffoCL"
      }
    },
    {
      "cell_type": "code",
      "source": [
        "class Preprocessor():\n",
        "    def __init__(self, data):\n",
        "        self.data = data\n",
        "        self.nlp = spacy.load('en_core_web_sm', disable=['parser', 'ner'])\n",
        "\n",
        "    def _normalize(self, text):\n",
        "        \"\"\"\n",
        "        Нормализация текста\n",
        "        \"\"\"\n",
        "        text = [ucd.normalize('NFKD', word).lower() for word in text]\n",
        "        text = [re.sub(r'[^\\w\\s]', '', word) for word in text if word != '']\n",
        "        text = [num2words(word, lang='eng') if word.isdigit() else word for word in text]\n",
        "        text = ''.join([c for c in text if c not in punctuation])\n",
        "        text = re.sub('[^a-z]', ' ', text)\n",
        "        text = re.sub(r'http[s]?://(?:[a-zA-Z]|[0-9]|[$-_@.&+]|[!*\\(\\),]|(?:%[0-9a-fA-F][0-9a-fA-F]))+', 'link', text)\n",
        "        text = re.sub(r'\\b(?![Ia])\\w\\b', ' ', text)\n",
        "        text = re.sub(r\"(\\d)+.\", \"\\1\", text)\n",
        "        # text = re.sub(r\"[\\s]\\s+\", \"\", text)\n",
        "        text = re.sub(r\"\u0001\", \"\", text)\n",
        "        text = re.sub(r'\\s+', ' ', text).strip()\n",
        "        return text\n",
        "\n",
        "    def _tokenizer(self):\n",
        "        self.data['cleaned_text'] = self.data['cleaned_text'].apply(lambda x: word_tokenize(x, language='english'))\n",
        "\n",
        "    def _remove_stopwords(self):\n",
        "        \"\"\"\n",
        "        Удаление стоп-слов из списка токенизированных слов\n",
        "        \"\"\"\n",
        "        sw = stopwords.words('english')\n",
        "        self.data['cleaned_text'] = self.data['cleaned_text'].apply(lambda x: [word for word in x if word not in sw])\n",
        "\n",
        "    def _get_lemmatizer(self, token):\n",
        "        doc = self.nlp(\" \".join(token))\n",
        "        return [token.lemma_ for token in doc]\n",
        "\n",
        "    def preprocess(self):\n",
        "        self.data['cleaned_text'] = self.data['text'].apply(lambda x: self._normalize(x))\n",
        "        self._tokenizer()\n",
        "        self._remove_stopwords()\n",
        "        self.data['cleaned_text'] = self.data['cleaned_text'].apply(self._get_lemmatizer)\n",
        "        return data"
      ],
      "metadata": {
        "id": "tWMEFcwakgmU"
      },
      "execution_count": null,
      "outputs": []
    },
    {
      "cell_type": "code",
      "source": [
        "preprocessor = Preprocessor(data)\n",
        "data = preprocessor.preprocess()"
      ],
      "metadata": {
        "id": "1Opc6O6RsSzp"
      },
      "execution_count": null,
      "outputs": []
    },
    {
      "cell_type": "code",
      "source": [
        "X_train, X_test, y_train, y_test = train_test_split(data[['cleaned_text']], data['label'], test_size=0.4, shuffle=True, random_state=seed)\n",
        "X_valid, X_test, y_valid, y_test = train_test_split(X_test, y_test, test_size=0.3, random_state=seed)\n",
        "X_train['length'] = X_train['cleaned_text'].apply(lambda x: len(x))\n",
        "X_train['length'].mean()"
      ],
      "metadata": {
        "id": "IjmY6osseFC_",
        "colab": {
          "base_uri": "https://localhost:8080/"
        },
        "outputId": "aff714ec-a403-4103-ad28-f484a81af944"
      },
      "execution_count": null,
      "outputs": [
        {
          "output_type": "execute_result",
          "data": {
            "text/plain": [
              "231.98010245749498"
            ]
          },
          "metadata": {},
          "execution_count": 286
        }
      ]
    },
    {
      "cell_type": "code",
      "source": [
        "X_train['cleaned_text'] = X_train['cleaned_text'].apply(lambda x: ' '.join(x))\n",
        "X_valid['cleaned_text'] = X_valid['cleaned_text'].apply(lambda x: ' '.join(x))\n",
        "X_test['cleaned_text'] = X_test['cleaned_text'].apply(lambda x: ' '.join(x))\n",
        "X_train['tokens'] = X_train['cleaned_text'].apply(lambda x: word_tokenize(x, language='english'))"
      ],
      "metadata": {
        "id": "ztBQuzXRG8OZ"
      },
      "execution_count": null,
      "outputs": []
    },
    {
      "cell_type": "markdown",
      "source": [
        "#Векторизация с паддингом"
      ],
      "metadata": {
        "id": "9qPcrSRXKw0p"
      }
    },
    {
      "cell_type": "code",
      "source": [
        "w2v_model = Word2Vec(X_train['tokens'], window=5, min_count=1)\n",
        "print(len(w2v_model.wv))"
      ],
      "metadata": {
        "id": "gYmoOwokTcPp"
      },
      "execution_count": null,
      "outputs": []
    },
    {
      "cell_type": "code",
      "source": [
        "w2v_model.wv.most_similar(positive=['trump', 'biden', 'obama'])"
      ],
      "metadata": {
        "colab": {
          "base_uri": "https://localhost:8080/"
        },
        "id": "GxzLfKvBWqMJ",
        "outputId": "c91b6995-c26a-4230-a35b-27892f391de6"
      },
      "execution_count": null,
      "outputs": [
        {
          "output_type": "execute_result",
          "data": {
            "text/plain": [
              "[('obamas', 0.6611693501472473),\n",
              " ('bush', 0.6357021927833557),\n",
              " ('protesterswa', 0.6101472973823547),\n",
              " ('dataor', 0.5758607983589172),\n",
              " ('penny', 0.5654822587966919),\n",
              " ('obamaobama', 0.5566176176071167),\n",
              " ('obamain', 0.5554772019386292),\n",
              " ('obamawe', 0.5536879301071167),\n",
              " ('datawe', 0.5521184802055359),\n",
              " ('trumps', 0.5473297834396362)]"
            ]
          },
          "metadata": {},
          "execution_count": 171
        }
      ]
    },
    {
      "cell_type": "code",
      "source": [
        "train_data = list(X_train['tokens'])\n",
        "tokens = []\n",
        "\n",
        "for token in tqdm(train_data):\n",
        "  tokens.extend(token)\n",
        "tokens_filtered = [word for word in tokens if word.isalnum()]\n",
        "max_words = 10000\n",
        "dist = FreqDist(tokens_filtered)\n",
        "tokens_filtered_top = [pair[0] for pair in dist.most_common(max_words-1)]\n",
        "tokens_filtered_top[:10]"
      ],
      "metadata": {
        "colab": {
          "base_uri": "https://localhost:8080/",
          "height": 223,
          "referenced_widgets": [
            "977db03f99f64ea8ab8f13144134628c",
            "9b0f909da9234196891cd5eb3280f09b",
            "162f0e0de78b4758ac08bde449eda1bd",
            "b9ea7f5009f741e8bec50cee275bdd02",
            "ba9015d6bfb44747a2afc2c00f1aaf94",
            "f059d41f80904cf3b2f3203c30ede8a3",
            "5e50423454e140e39ef3644b88dd0168",
            "f6feb74623194902860737f11beab26e",
            "eb9ddfe0b42a403ca4d0645d45eab362",
            "07654d9318c5468a845894873838f746",
            "bdbe36f007694563a0b1bdb90fe00a66"
          ]
        },
        "id": "V5vvYZm2sRzS",
        "outputId": "41723d99-9acb-46d3-9f4f-2db8082541ee"
      },
      "execution_count": null,
      "outputs": [
        {
          "output_type": "display_data",
          "data": {
            "text/plain": [
              "  0%|          | 0/26938 [00:00<?, ?it/s]"
            ],
            "application/vnd.jupyter.widget-view+json": {
              "version_major": 2,
              "version_minor": 0,
              "model_id": "977db03f99f64ea8ab8f13144134628c"
            }
          },
          "metadata": {}
        },
        {
          "output_type": "execute_result",
          "data": {
            "text/plain": [
              "['say',\n",
              " 'trump',\n",
              " 'would',\n",
              " 'president',\n",
              " 'people',\n",
              " 'one',\n",
              " 'state',\n",
              " 'make',\n",
              " 'we',\n",
              " 'go']"
            ]
          },
          "metadata": {},
          "execution_count": 291
        }
      ]
    },
    {
      "cell_type": "code",
      "source": [
        "vocabulary = {v: k for k, v in dict(enumerate(tokens_filtered_top, 1)).items()}\n",
        "print(len(vocabulary))"
      ],
      "metadata": {
        "colab": {
          "base_uri": "https://localhost:8080/"
        },
        "id": "RbKkP3J-s0ZG",
        "outputId": "078dac13-d30c-416b-9869-4feced58bc35"
      },
      "execution_count": null,
      "outputs": [
        {
          "output_type": "execute_result",
          "data": {
            "text/plain": [
              "9999"
            ]
          },
          "metadata": {},
          "execution_count": 292
        }
      ]
    },
    {
      "cell_type": "code",
      "source": [
        "def text_to_sequence(text, maxlen):\n",
        "    tokens = word_tokenize(text.lower())\n",
        "    tokens_filtered = [word for word in tokens if word.isalnum()]\n",
        "    result = [vocabulary[word] for word in tokens_filtered if word in vocabulary]\n",
        "    padding = [0]*(maxlen-len(result))\n",
        "    return padding + result[-maxlen:]"
      ],
      "metadata": {
        "id": "2zrY6o3vuAMp"
      },
      "execution_count": null,
      "outputs": []
    },
    {
      "cell_type": "code",
      "source": [
        "max_len = 235\n",
        "x_train = np.array([text_to_sequence(text, max_len) for text in tqdm(X_train[\"cleaned_text\"])], dtype=np.int32)\n",
        "x_test = np.array([text_to_sequence(text, max_len) for text in tqdm(X_test[\"cleaned_text\"])], dtype=np.int32)\n",
        "x_valid = np.array([text_to_sequence(text, max_len) for text in tqdm(X_valid[\"cleaned_text\"])], dtype=np.int32)\n",
        "y_train = np.array(y_train)\n",
        "y_test = np.array(y_test)\n",
        "y_valid = np.array(y_valid)"
      ],
      "metadata": {
        "colab": {
          "base_uri": "https://localhost:8080/",
          "height": 113,
          "referenced_widgets": [
            "4bad5cc578a04b7fb1ef289ff538bfec",
            "d089e6e5559548b1b51c21f00764c3ea",
            "a8157edb8ef94f1c92dcd3c125de4887",
            "681c5d869c0e4252a192175d26880fa7",
            "8294bad279be40eaad55b04195c99719",
            "08aef2ac189d4ff18b236cd27ed3bf6f",
            "fa4bffca39574a8eb3c49e9c8ebb9fc6",
            "16fdadf459fc444f9d4c404d110560d0",
            "678bc98818a3431fb7b707918f0271c0",
            "c06f224f44064def973b8dd91336f4f7",
            "1d7e1659d40041828cc9ece8d8a337e5",
            "def585aac9e14732bb5698027ceca6ef",
            "a5564600df604d52be7dd139a1722484",
            "5b41330209b5440192992d35db89e746",
            "39b8af9b55754ff9818319ea73d0429c",
            "8bddf0ecee9d4e178c2ba4cc56a74222",
            "1a7573cea5834c7f9b73bb5c9b9c405c",
            "5c6719f646844d76b881201202e36b03",
            "545d49a310d94202a3d0b9d5eaa638f8",
            "4ea5772ca16e4dfd93c6671f53545f21",
            "c1c54f7400ab45e49b9792a9fd151bc1",
            "68637e20e5a04837b7f0a776f9bbb34f",
            "71338d877d124c148d5584a497080d22",
            "14697ade5083495badb9fa92b209082c",
            "7e1d844a6aa2476cb48be72826aa31da",
            "de4ece04b9644a48ab75dd3e20c0fe0f",
            "49d7a9f30fc740f89dd5c382cdff0357",
            "0f1edafbeecb42c792f23280fc8662c6",
            "1015b689d42544389d673fa7f7673e82",
            "373d22d676eb44e39b67d403ebb010af",
            "61b5b18bd84644f4b1cc2b3feb019683",
            "df4aae2dfee641fa8c7eba00cd333495",
            "91c7aba45f714cf2ab46d226b4ce5d49"
          ]
        },
        "id": "8AcYS3FjjGMr",
        "outputId": "14227e10-a8f7-4de7-972f-818b18d3f467"
      },
      "execution_count": null,
      "outputs": [
        {
          "output_type": "display_data",
          "data": {
            "text/plain": [
              "  0%|          | 0/26938 [00:00<?, ?it/s]"
            ],
            "application/vnd.jupyter.widget-view+json": {
              "version_major": 2,
              "version_minor": 0,
              "model_id": "4bad5cc578a04b7fb1ef289ff538bfec"
            }
          },
          "metadata": {}
        },
        {
          "output_type": "display_data",
          "data": {
            "text/plain": [
              "  0%|          | 0/5388 [00:00<?, ?it/s]"
            ],
            "application/vnd.jupyter.widget-view+json": {
              "version_major": 2,
              "version_minor": 0,
              "model_id": "def585aac9e14732bb5698027ceca6ef"
            }
          },
          "metadata": {}
        },
        {
          "output_type": "display_data",
          "data": {
            "text/plain": [
              "  0%|          | 0/12572 [00:00<?, ?it/s]"
            ],
            "application/vnd.jupyter.widget-view+json": {
              "version_major": 2,
              "version_minor": 0,
              "model_id": "71338d877d124c148d5584a497080d22"
            }
          },
          "metadata": {}
        }
      ]
    },
    {
      "cell_type": "code",
      "source": [
        "# Сохранение numpy массивов\n",
        "with open('test.npy', 'wb') as f:\n",
        "    np.save(f, x_train)\n",
        "    np.save(f, x_valid)\n",
        "    np.save(f, x_test)\n",
        "    np.save(f, y_train)\n",
        "    np.save(f, y_valid)\n",
        "    np.save(f, y_test)"
      ],
      "metadata": {
        "id": "qcb4H9G01Aw1"
      },
      "execution_count": null,
      "outputs": []
    },
    {
      "cell_type": "markdown",
      "source": [
        "#Тренировка данных"
      ],
      "metadata": {
        "id": "TTTz3MzJLRHi"
      }
    },
    {
      "cell_type": "code",
      "source": [
        "class TextDataset(Dataset):\n",
        "    def __init__(self, data, target=None, transform=None):\n",
        "        self.data = torch.from_numpy(data).long()\n",
        "        if target is not None:\n",
        "            self.target = torch.from_numpy(target).float()\n",
        "        else:\n",
        "          self.target = None\n",
        "        self.transform = transform\n",
        "\n",
        "    def __getitem__(self, index):\n",
        "        x = self.data[index]\n",
        "        y = self.target[index] if self.target is not None else -1\n",
        "\n",
        "        if self.transform:\n",
        "            x = self.transform(x)\n",
        "        return x, y\n",
        "\n",
        "    def __len__(self):\n",
        "        return len(self.data)"
      ],
      "metadata": {
        "id": "Ujhe0RCHZ82C"
      },
      "execution_count": null,
      "outputs": []
    },
    {
      "cell_type": "code",
      "source": [
        "class ConvNewsClassifier(nn.Module):\n",
        "    def __init__(self, vocab_size=10000, embedding_dim=128, out_channel=30):\n",
        "        super().__init__()\n",
        "        self.embedding = nn.Embedding(vocab_size, embedding_dim)\n",
        "        self.conv = nn.Conv1d(embedding_dim, out_channel, kernel_size=3)\n",
        "        self.relu = nn.ReLU()\n",
        "        self.linear = nn.Linear(out_channel, 1)\n",
        "\n",
        "    def forward(self, x):\n",
        "        output = self.embedding(x)\n",
        "        output = output.permute(0, 2, 1)\n",
        "        output = self.conv(output)\n",
        "        output = self.relu(output)\n",
        "        output = torch.max(output, axis=2).values\n",
        "        output = self.linear(output)\n",
        "        return output"
      ],
      "metadata": {
        "id": "_fc5LK1AxylG"
      },
      "execution_count": null,
      "outputs": []
    },
    {
      "cell_type": "code",
      "source": [
        "class LSTMNewsClassifier(nn.Module):\n",
        "    def __init__(self, vocab_size=10000, embedding_dim=128, hidden_dim=64, num_layers=1):\n",
        "        super().__init__()\n",
        "        self.embedding = nn.Embedding(vocab_size, embedding_dim)\n",
        "        self.lstm = nn.LSTM(embedding_dim, hidden_dim, num_layers, batch_first=True)\n",
        "        self.fc = nn.Linear(hidden_dim, 1)\n",
        "\n",
        "    def forward(self, x):\n",
        "        x = self.embedding(x)\n",
        "        lstm_out, (hn, cn) = self.lstm(x)\n",
        "        out = self.fc(lstm_out[:, -1, :])\n",
        "        return out"
      ],
      "metadata": {
        "id": "KzGOVFl9zzYB"
      },
      "execution_count": null,
      "outputs": []
    },
    {
      "cell_type": "code",
      "source": [
        "batch_size = 512\n",
        "train_dataset = TextDataset(x_train, y_train)\n",
        "valid_dataset = TextDataset(x_valid, y_valid)\n",
        "train_loader = DataLoader(train_dataset, batch_size=batch_size, shuffle=True)\n",
        "valid_loader = DataLoader(valid_dataset, batch_size=batch_size, shuffle=True)"
      ],
      "metadata": {
        "id": "6n5LovGGz4KS"
      },
      "execution_count": null,
      "outputs": []
    },
    {
      "cell_type": "code",
      "source": [
        "model_cnn = ConvNewsClassifier()\n",
        "optimizer_cnn = torch.optim.Adam(model_cnn.parameters(), lr=0.001)\n",
        "criterion_cnn = nn.BCEWithLogitsLoss()\n",
        "f1_cnn = F1Score(task=\"binary\")"
      ],
      "metadata": {
        "id": "jjaT5IEoz53Z"
      },
      "execution_count": null,
      "outputs": []
    },
    {
      "cell_type": "code",
      "source": [
        "model_lstm = LSTMNewsClassifier()\n",
        "optimizer_lstm = torch.optim.Adam(model_lstm.parameters(), lr=0.001)\n",
        "criterion_lstm = nn.BCEWithLogitsLoss()\n",
        "f1_lstm = F1Score(task=\"binary\")"
      ],
      "metadata": {
        "id": "tyfpQ9mCz7rN"
      },
      "execution_count": null,
      "outputs": []
    },
    {
      "cell_type": "code",
      "source": [
        "device = 'cuda' if torch.cuda.is_available() else 'cpu'\n",
        "print(device)"
      ],
      "metadata": {
        "colab": {
          "base_uri": "https://localhost:8080/"
        },
        "id": "FwEtBarEz9WN",
        "outputId": "20fd7220-2c96-4713-eb94-c07933c288e9"
      },
      "execution_count": null,
      "outputs": [
        {
          "output_type": "stream",
          "name": "stdout",
          "text": [
            "cuda\n"
          ]
        }
      ]
    },
    {
      "cell_type": "code",
      "source": [
        "def train_model(model, n_epochs, optimizer, criterion, metrics):\n",
        "    model.to(device)\n",
        "    metrics.to(device)\n",
        "\n",
        "    history = {\n",
        "    'train_losses': [],\n",
        "    'train_metrics': [],\n",
        "    'valid_losses': [],\n",
        "    'valid_metrcis': []\n",
        "    }\n",
        "\n",
        "    for epoch in range(n_epochs):\n",
        "        train_losses_iter = []\n",
        "        train_metrics_iter = []\n",
        "        model.train()\n",
        "        for i, (data, target) in enumerate(train_loader):\n",
        "            data, target = data.to(device), target.to(device)\n",
        "            out = model(data)\n",
        "            loss = criterion(out.squeeze(), target)\n",
        "            train_losses_iter.append(loss.float().item())\n",
        "            train_metrics_iter.append(metrics((torch.sigmoid(out).squeeze() > 0.5).long(), target).item())\n",
        "\n",
        "            optimizer.zero_grad()\n",
        "            loss.backward()\n",
        "            optimizer.step()\n",
        "\n",
        "        history['train_losses'].append(np.mean(train_losses_iter))\n",
        "        history['train_metrics'].append(np.mean(train_metrics_iter))\n",
        "\n",
        "        valid_losses_iter = []\n",
        "        valid_metrics_iter = []\n",
        "        model.eval()\n",
        "\n",
        "        for i, (data, target) in enumerate(valid_loader):\n",
        "            data, target = data.to(device), target.to(device)\n",
        "            out = model(data)\n",
        "            loss = criterion(out.squeeze(), target)\n",
        "            valid_losses_iter.append(loss.float().item())\n",
        "            valid_metrics_iter.append(metrics((torch.sigmoid(out).squeeze() > 0.5).long(), target).item())\n",
        "\n",
        "        history['valid_losses'].append(np.mean(valid_losses_iter))\n",
        "        history['valid_metrcis'].append(np.mean(valid_metrics_iter))\n",
        "\n",
        "        print(f'train: loss {history[\"train_losses\"][-1]:.4f}\\n'\n",
        "        f'train: f1-score {history[\"train_metrics\"][-1]:.4f}\\n'\n",
        "        f'valid: loss {history[\"valid_losses\"][-1]:.4f}\\n'\n",
        "        f'valid: f1-score {history[\"valid_metrcis\"][-1]:.4f}')\n",
        "        print(f'{\"-\"*35}')\n",
        "        print()\n",
        "\n",
        "    return history, model"
      ],
      "metadata": {
        "id": "5jdu8twR0AEE"
      },
      "execution_count": null,
      "outputs": []
    },
    {
      "cell_type": "code",
      "source": [
        "history_cnn, model_cnn = train_model(model_cnn, 15, optimizer_cnn, criterion_cnn, f1_cnn)"
      ],
      "metadata": {
        "id": "HMAZomD_0ClL"
      },
      "execution_count": null,
      "outputs": []
    },
    {
      "cell_type": "code",
      "source": [
        "history_lstm, model_lstm = train_model(model_lstm, 15, optimizer_lstm, criterion_lstm, f1_lstm)"
      ],
      "metadata": {
        "id": "-8z24QI20EMh"
      },
      "execution_count": null,
      "outputs": []
    },
    {
      "cell_type": "code",
      "source": [
        "def visualize_history(history):\n",
        "    fig, (ax1, ax2) = plt.subplots(1, 2, figsize=(15, 5))\n",
        "\n",
        "    ax1.plot(history['train_losses'], label='Train Loss', color='blue')\n",
        "    ax1.plot(history['valid_losses'], label='Valid Loss', color='red')\n",
        "    ax1.set_title('Losses')\n",
        "    ax1.set_xlabel('Epochs')\n",
        "    ax1.set_ylabel('Loss')\n",
        "    ax1.legend()\n",
        "\n",
        "    ax2.plot(history['train_metrics'], label='Train Metrics', color='blue')\n",
        "    ax2.plot(history['valid_metrcis'], label='Valid Metrics', color='red')\n",
        "    ax2.set_title('Metrics')\n",
        "    ax2.set_xlabel('Epochs')\n",
        "    ax2.set_ylabel('Metric Value')\n",
        "    ax2.legend()\n",
        "\n",
        "    plt.tight_layout()\n",
        "    plt.show()"
      ],
      "metadata": {
        "id": "LuG7mvEW0I17"
      },
      "execution_count": null,
      "outputs": []
    },
    {
      "cell_type": "code",
      "source": [
        "visualize_history(history_cnn)"
      ],
      "metadata": {
        "id": "RijJrqBs0Ky_"
      },
      "execution_count": null,
      "outputs": []
    },
    {
      "cell_type": "code",
      "source": [
        "visualize_history(history_lstm)"
      ],
      "metadata": {
        "id": "L8FIf7fj0MLQ"
      },
      "execution_count": null,
      "outputs": []
    },
    {
      "cell_type": "markdown",
      "source": [
        "#Тестирование"
      ],
      "metadata": {
        "id": "rzn7ECTtLY6A"
      }
    },
    {
      "cell_type": "code",
      "source": [
        "batch_size = 512\n",
        "test_dataset = TextDataset(x_test, y_test)\n",
        "test_loader = DataLoader(train_dataset, batch_size=batch_size, shuffle=True)"
      ],
      "metadata": {
        "id": "sSBpFAup0Nze"
      },
      "execution_count": null,
      "outputs": []
    },
    {
      "cell_type": "code",
      "source": [
        "test_metrics_cnn = []\n",
        "test_metrics_lstm = []\n",
        "model_cnn.eval()\n",
        "model_lstm.eval()\n",
        "\n",
        "for i, (data, target) in enumerate(test_loader):\n",
        "        data, target = data.to(device), target.to(device)\n",
        "        out_cnn = model_cnn(data)\n",
        "        out_lstm = model_lstm(data)\n",
        "        test_metrics_cnn.append(f1_cnn((torch.sigmoid(out_cnn).squeeze() > 0.5).long(), target).item())\n",
        "        test_metrics_lstm.append(f1_lstm((torch.sigmoid(out_lstm).squeeze() > 0.5).long(), target).item())\n",
        "print(np.mean(test_metrics_cnn))\n",
        "print(test_metrics_lstm)"
      ],
      "metadata": {
        "id": "ujJSG7cO0PR3",
        "colab": {
          "base_uri": "https://localhost:8080/"
        },
        "outputId": "e808d672-af6e-4bda-d33d-cc8f100c2728"
      },
      "execution_count": null,
      "outputs": [
        {
          "output_type": "stream",
          "name": "stdout",
          "text": [
            "1.0\n",
            "[1.0, 1.0, 0.9982110857963562, 1.0, 1.0, 1.0, 1.0, 1.0, 1.0, 1.0, 1.0, 1.0, 1.0, 1.0, 1.0, 0.9980430603027344, 1.0, 1.0, 1.0, 1.0, 1.0, 1.0, 1.0, 0.998171865940094, 0.9981784820556641, 1.0, 1.0, 0.9982964396476746, 1.0, 1.0, 1.0, 0.9962121248245239, 1.0, 1.0, 1.0, 1.0, 1.0, 0.9980276226997375, 1.0, 1.0, 0.9982300996780396, 1.0, 1.0, 0.998171865940094, 1.0, 1.0, 1.0, 1.0, 0.9980806112289429, 1.0, 1.0, 1.0, 1.0]\n"
          ]
        }
      ]
    }
  ]
}
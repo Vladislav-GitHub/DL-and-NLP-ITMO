{
  "nbformat": 4,
  "nbformat_minor": 0,
  "metadata": {
    "colab": {
      "provenance": [],
      "toc_visible": true,
      "include_colab_link": true
    },
    "kernelspec": {
      "display_name": "Python 3",
      "name": "python3"
    },
    "language_info": {
      "name": "python"
    }
  },
  "cells": [
    {
      "cell_type": "markdown",
      "metadata": {
        "id": "view-in-github",
        "colab_type": "text"
      },
      "source": [
        "<a href=\"https://colab.research.google.com/github/Vladislav-GitHub/DL-and-NLP-ITMO-course/blob/hw_5/NLP_5_task.ipynb\" target=\"_parent\"><img src=\"https://colab.research.google.com/assets/colab-badge.svg\" alt=\"Open In Colab\"/></a>"
      ]
    },
    {
      "cell_type": "code",
      "source": [
        "!pip install --upgrade ipykernel\n",
        "!pip install pymorphy2 bigartm corus razdel pyLDAvis"
      ],
      "metadata": {
        "id": "SWWF9zu03izl"
      },
      "execution_count": null,
      "outputs": []
    },
    {
      "cell_type": "code",
      "metadata": {
        "id": "o99cZiMeSLPk"
      },
      "source": [
        "import warnings\n",
        "import re\n",
        "import gc\n",
        "import artm\n",
        "import nltk\n",
        "import scipy\n",
        "import re\n",
        "import math\n",
        "import random\n",
        "import pickle\n",
        "import pyLDAvis\n",
        "import itertools\n",
        "import gensim\n",
        "import razdel\n",
        "import pymorphy2\n",
        "import pandas as pd\n",
        "import numpy as np\n",
        "import moviepy.editor\n",
        "import matplotlib.pyplot as plt\n",
        "import pyLDAvis.gensim_models as gensimvis\n",
        "from corus import load_lenta\n",
        "from nltk.corpus import stopwords\n",
        "from pprint import pprint\n",
        "from ast import literal_eval\n",
        "from gensim.models.coherencemodel import CoherenceModel\n",
        "from gensim import corpora\n",
        "from bs4 import BeautifulSoup\n",
        "from hyperopt import STATUS_OK, Trials, fmin, hp, tpe\n",
        "from sklearn.model_selection import train_test_split\n",
        "from sklearn.feature_extraction.text import CountVectorizer"
      ],
      "execution_count": null,
      "outputs": []
    },
    {
      "cell_type": "code",
      "source": [
        "warnings.filterwarnings('ignore')\n",
        "warnings.simplefilter(\"ignore\", UserWarning)\n",
        "warnings.simplefilter(\"ignore\", RuntimeWarning)\n",
        "warnings.simplefilter(action='ignore', category=FutureWarning)\n",
        "nltk.download('punkt')\n",
        "nltk.download('stopwords')\n",
        "sw = stopwords.words('russian')\n",
        "additional_sw =  'мои оно мной мною мог могут мор мое мочь оба нам нами ними однако нему никуда наш нею неё наша наше наши очень отсюда вон вами ваш ваша ваше ваши весь всем всеми вся ими ею будем будете будешь буду будь будут кому кого которой которого которая которые который которых кем каждое каждая каждые каждый кажется та те тому собой тобой собою тобою тою хотеть хочешь свое свои твой своей своего своих твоя твоё сама сами теми само самом самому самой самого самим самими самих саму чему тебе такое такие также такая сих тех ту эта это этому туда этим этими этих абы аж ан благо буде вроде дабы едва ежели затем зато ибо итак кабы коли коль либо лишь нежели пока покамест покуда поскольку притом причем пускай пусть ровно сиречь словно также точно хотя чисто якобы '\n",
        "pronouns = 'я мы ты вы он она оно они себя мой твой ваш наш свой его ее их то это тот этот такой таков столько весь всякий сам самый каждый любой иной другой кто что какой каков чей сколько никто ничто некого нечего никакой ничей нисколько кто-то кое-кто кто-нибудь кто-либо что-то кое-что что-нибудь что-либо какой-то какой-либо какой-нибудь некто нечто некоторый некий'\n",
        "conjunctions = 'что чтобы как когда ибо пока будто словно если потому что оттого что так как так что лишь только как будто с тех пор как в связи с тем что для того чтобы кто как когда который какой где куда откуда'\n",
        "digits = 'ноль один два три четыре пять шесть семь восемь девять десять одиннадцать двенадцать тринадцать четырнадцать пятнадцать шестнадцать семнадцать восемнадцать девятнадцать двадцать тридцать сорок пятьдесят шестьдесят семьдесят восемьдесят девяносто сто'\n",
        "modal_words = 'вероятно возможно видимо по-видимому кажется наверное безусловно верно  действительно конечно несомненно разумеется'\n",
        "particles = 'да так точно ну да не ни неужели ли разве а что ли что за то-то как ну и ведь даже еще ведь уже все все-таки просто прямо вон это вот как словно будто точно как будто вроде как бы именно как раз подлинно ровно лишь только хоть всего исключительно вряд ли едва ли'\n",
        "prepositions = 'близ  вблизи  вдоль  вокруг  впереди  внутрь  внутри  возле  около  поверх  сверху  сверх  позади  сзади  сквозь  среди  прежде  мимо  вслед  согласно  подобно  навстречу  против  напротив  вопреки  после  кроме  вместе  вдали  наряду  совместно  согласно  нежели вроде от бишь до без аж тех раньше совсем только итак например из прямо ли следствие а поскольку благо пускай благодаря случае затем притом также связи время при чтоб просто того невзирая даром вместо точно покуда тогда зато ради ан буде прежде насчет раз причине тому так даже исходя коль кабы более ровно либо помимо как-то будто если словно лишь бы и не будь пор тоже разве чуть как хотя наряду потому пусть в равно между сверх ибо на судя то чтобы относительно или счет за но сравнению причем оттого есть когда уж ввиду тем для дабы чем хоть с вплоть скоро едва после той да вопреки ежели кроме сиречь же коли под абы несмотря все пока покамест паче прямо-таки перед что по вдруг якобы подобно'\n",
        "evaluative = 'наиболее наименее лучший больший высший низший худший более менее'\n",
        "\n",
        "sw.extend(additional_sw.split())\n",
        "sw.extend(pronouns.split())\n",
        "sw.extend(conjunctions.split())\n",
        "sw.extend(digits.split())\n",
        "sw.extend(modal_words.split())\n",
        "sw.extend(particles.split())\n",
        "sw.extend(prepositions.split())\n",
        "sw.extend(evaluative.split())\n",
        "sw = list(set(sw))"
      ],
      "metadata": {
        "id": "ZLPqtoOsPfjr"
      },
      "execution_count": null,
      "outputs": []
    },
    {
      "cell_type": "code",
      "source": [
        "SEED = 42\n",
        "random.seed(SEED)\n",
        "np.random.seed(SEED)"
      ],
      "metadata": {
        "id": "-4E6Fhvu3Zjz"
      },
      "execution_count": null,
      "outputs": []
    },
    {
      "cell_type": "markdown",
      "metadata": {
        "id": "mBYjwRJmziSA"
      },
      "source": [
        "### Чтение данных"
      ]
    },
    {
      "cell_type": "code",
      "source": [
        "!wget https://github.com/yutkin/Lenta.Ru-News-Dataset/releases/download/v1.0/lenta-ru-news.csv.gz"
      ],
      "metadata": {
        "id": "cRNa0bSbJWx7"
      },
      "execution_count": null,
      "outputs": []
    },
    {
      "cell_type": "code",
      "source": [
        "path = 'lenta-ru-news.csv.gz'\n",
        "records = load_lenta(path)\n",
        "dataset = [next(records).text for i in range(1000)]"
      ],
      "metadata": {
        "id": "X199jro70Kji"
      },
      "execution_count": null,
      "outputs": []
    },
    {
      "cell_type": "markdown",
      "source": [
        "### Предобработка"
      ],
      "metadata": {
        "id": "WM_IlsfA0s-A"
      }
    },
    {
      "cell_type": "code",
      "source": [
        "def clean_html(raw):\n",
        "    cleanr = re.compile('<.*?>|&([a-z0-9]+|#[0-9]{1,6}|#x[0-9a-f]{1,6});')\n",
        "    cleantext = re.sub(cleanr, '', raw)\n",
        "    return cleantext\n",
        "\n",
        "def clean_html_bs4(text_data):\n",
        "    soup = BeautifulSoup(text_data, 'lxml')\n",
        "    return soup.get_text()\n",
        "\n",
        "def tokenize(text, stopwords, need_lemmatize=False):\n",
        "    result = []\n",
        "    sentences = [item.text for item in razdel.sentenize(str(text))]\n",
        "\n",
        "    for sentence in sentences:\n",
        "        text = sentence.lower()\n",
        "        text = clean_html_bs4(text)\n",
        "        text = re.sub(r\"\\s+\", ' ', text)\n",
        "        tokens = [item.text for item in  razdel.tokenize(text)]\n",
        "        tokens = [re.sub(\"[^а-яА-Яa-z\\—«»\\'\\\"\\d+]\", ' ', item) for item in tokens]\n",
        "\n",
        "    if need_lemmatize:\n",
        "        tokens = [analyzer.parse(token)[0].normal_form for token in tokens if token not in stopwords  and ' ' not in token and len(token) > 2]\n",
        "        tokens = [token for token in tokens if token not in lemmatized_sw]\n",
        "    tokens = [re.sub(r\"ё\", \"е\", token) for token in tokens]\n",
        "    result.extend(tokens)\n",
        "    return result\n",
        "\n",
        "need_preprocess = True\n",
        "\n",
        "if need_preprocess:\n",
        "    analyzer = pymorphy2.MorphAnalyzer()\n",
        "    lemmatized_sw = [analyzer.parse(word)[0].normal_form for word in sw]\n",
        "    tokenized = [tokenize(text, stopwords=sw, need_lemmatize=True) for text in dataset]"
      ],
      "metadata": {
        "id": "y6uVqLPV1NN5"
      },
      "execution_count": null,
      "outputs": []
    },
    {
      "cell_type": "markdown",
      "metadata": {
        "id": "wepi6ZjdciQX"
      },
      "source": [
        "### Векторизация текстов"
      ]
    },
    {
      "cell_type": "code",
      "source": [
        "tokens = [''.join(tokenize(text, stopwords=sw, need_lemmatize=True)) for text in dataset]\n",
        "cv = CountVectorizer(max_features=1000, max_df=0.8, min_df=1, ngram_range=(1, 2))\n",
        "n_wd = np.array(cv.fit_transform(tokens).todense()).T\n",
        "print(n_wd.shape)\n",
        "token_list = [i for i in cv.vocabulary_.keys()]\n",
        "bv = artm.BatchVectorizer(data_format='bow_n_wd', n_wd=n_wd, vocabulary=token_list)"
      ],
      "metadata": {
        "id": "ZBVfMx1GFdSv",
        "colab": {
          "base_uri": "https://localhost:8080/"
        },
        "outputId": "a0c46991-f8da-4916-8fae-bebc9de6e235"
      },
      "execution_count": null,
      "outputs": [
        {
          "output_type": "stream",
          "name": "stdout",
          "text": [
            "(939, 1000)\n"
          ]
        }
      ]
    },
    {
      "cell_type": "markdown",
      "metadata": {
        "id": "6DFrCi6UaQoY"
      },
      "source": [
        "### Класс модели LDA с моей loss-функцией"
      ]
    },
    {
      "cell_type": "code",
      "source": [
        "bigram = gensim.models.Phrases(tokenized, min_count=5, threshold=100)\n",
        "trigram = gensim.models.Phrases(bigram[tokenized], threshold=100)\n",
        "\n",
        "def get_ngrams(texts_out):\n",
        "    texts_out = [trigram[bigram[doc]] for doc in texts_out]\n",
        "    return texts_out\n",
        "\n",
        "data_ready = get_ngrams(tokenized)\n",
        "id2word = corpora.Dictionary(data_ready)\n",
        "corpus = [id2word.doc2bow(text) for text in data_ready]"
      ],
      "metadata": {
        "id": "dVkmZYmgtmM-"
      },
      "execution_count": null,
      "outputs": []
    },
    {
      "cell_type": "code",
      "source": [
        "moviepy.editor.ipython_display(\"/content/loss_func.mp4\")"
      ],
      "metadata": {
        "id": "Xw-3QDJnH02q"
      },
      "execution_count": null,
      "outputs": []
    },
    {
      "cell_type": "code",
      "source": [
        "class Trainer():\n",
        "    def __init__(self, dictionary, model='LDA', texts=None, corpus=None):\n",
        "        if model == 'LDA':\n",
        "            self.model = self.lda_model\n",
        "            self.space = {'num_topics': hp.randint('num_topics', 2, 5),\n",
        "                          'alpha': hp.uniform('alpha', 0.01, 1),\n",
        "                          'passes': hp.choice('passes', range(0, 100, 10)),\n",
        "                          'eta': hp.uniform('eta', 0.1, 1),\n",
        "                          'iterations': hp.choice('iterations', range(10, 150, 20))}\n",
        "        elif model == 'bigARTM':\n",
        "            self.model = self.bigARTM_model\n",
        "            self.space = {'num_topics': hp.choice('num_topics', [10, 15, 20]),\n",
        "                                 'phi_tau': hp.uniform('SparsePhi', -1, 1),\n",
        "                                 'theta_tau': hp.uniform('SparseTheta', -1, 1),\n",
        "                                 'decorrelation_tau': hp.uniform('DecorrelatorPhi', 1e+2, 1e+5)}\n",
        "        self.dictionary = dictionary\n",
        "        self.corpus = corpus\n",
        "        self.texts = texts\n",
        "\n",
        "    def compute_coherence_values(self, model, dictionary, corpus, texts):\n",
        "        coherence_model = CoherenceModel(model=self.model, texts=data_ready, dictionary=self.dictionary, coherence='c_v')\n",
        "        return coherence_model.get_coherence()\n",
        "\n",
        "    def lda_model(self, params):\n",
        "        self.model = gensim.models.ldamodel.LdaModel(corpus=self.corpus, id2word=self.dictionary,\n",
        "                                                num_topics=params['num_topics'],\n",
        "                                                alpha=params['alpha'],\n",
        "                                                eta=params['eta'],\n",
        "                                                random_state=SEED,\n",
        "                                                update_every=2,\n",
        "                                                chunksize=50,\n",
        "                                                passes=params['passes'],\n",
        "                                                iterations=params['iterations'],\n",
        "                                                per_word_topics=True)\n",
        "        coherence = self.compute_coherence_values(model=self.model, dictionary=self.dictionary, corpus=self.corpus, texts=self.texts)\n",
        "        perplexity = self.model.log_perplexity(corpus)\n",
        "        print(f'perplexity: {np.exp2(-perplexity)}, coherence: {coherence}')\n",
        "\n",
        "        return {'loss': 1 / (coherence + np.exp2(perplexity)) - 1, 'status': STATUS_OK}\n",
        "\n",
        "    def best_lda_model(self, params):\n",
        "        self.model = gensim.models.ldamodel.LdaModel(corpus=self.corpus, id2word=self.dictionary,\n",
        "                                                num_topics=params['num_topics'],\n",
        "                                                alpha=params['alpha'],\n",
        "                                                eta=params['eta'],\n",
        "                                                random_state=SEED,\n",
        "                                                update_every=2,\n",
        "                                                chunksize=50,\n",
        "                                                passes=params['passes'],\n",
        "                                                iterations=params['iterations'],\n",
        "                                                per_word_topics=True)\n",
        "        return self.model\n",
        "\n",
        "    def run_hyperopt(self, max_evals=20):\n",
        "        trials = Trials()\n",
        "        best_params = fmin(fn=self.model, space=self.space, algo=tpe.suggest, max_evals=max_evals, trials=trials)\n",
        "        return best_params, trials\n",
        "\n",
        "    def prepare_vis_data_lda(self, model):\n",
        "        pyLDAvis.enable_notebook()\n",
        "        vis = gensimvis.prepare(self.model, corpus=self.corpus, dictionary=self.model.id2word)\n",
        "        return vis\n",
        "\n",
        "    def prepare_vis_data_ARTM(self):\n",
        "        phi = self.model.get_phi()\n",
        "        theta = self.model.get_theta().to_numpy().T\n",
        "        theta = theta / theta.sum(axis=1, keepdims=1)\n",
        "        data = {'topic_term_dists': phi.to_numpy().T,\n",
        "                'doc_topic_dists': theta,\n",
        "                'doc_lengths': n_wd.sum(axis=0).tolist(),\n",
        "                'vocab': phi.T.columns,\n",
        "                'term_frequency': n_wd.sum(axis=1).tolist()}\n",
        "        return data"
      ],
      "metadata": {
        "id": "4appXGtjB3sR"
      },
      "execution_count": null,
      "outputs": []
    },
    {
      "cell_type": "code",
      "source": [
        "trainer = Trainer(dictionary=id2word, model='LDA', texts=data_ready, corpus=corpus)"
      ],
      "metadata": {
        "id": "efH_-ljXX_eh"
      },
      "execution_count": null,
      "outputs": []
    },
    {
      "cell_type": "code",
      "source": [
        "%%time\n",
        "best_params = trainer.run_hyperopt(max_evals=40)\n",
        "best_params"
      ],
      "metadata": {
        "id": "TuT6FDJ34XHL"
      },
      "execution_count": null,
      "outputs": []
    },
    {
      "cell_type": "code",
      "source": [
        "lda_best_model = trainer.lda_model(*best_params[:-1])"
      ],
      "metadata": {
        "id": "1dIY-jJ1ROjE"
      },
      "execution_count": null,
      "outputs": []
    },
    {
      "cell_type": "code",
      "source": [
        "lda_best_model = trainer.best_lda_model(*best_params[:-1])\n",
        "trainer.prepare_vis_data_lda(lda_best_model)"
      ],
      "metadata": {
        "id": "puCjGWjESgCO"
      },
      "execution_count": null,
      "outputs": []
    },
    {
      "cell_type": "markdown",
      "metadata": {
        "id": "Jq309-p2cRis"
      },
      "source": [
        "### Подбор гиперпараметров"
      ]
    },
    {
      "cell_type": "markdown",
      "metadata": {
        "id": "8rbZ6O5u_OPL"
      },
      "source": [
        "Подбор гиперпараметров с hyperopt:\n",
        "\n",
        "* num_topics - количество тем\n",
        "* SparsePhi - сглаживание/разреживание матрицы Phi\n",
        "* SparseTheta - сглаживание/разреживание матрицы Theta\n",
        "* DecorrelatorPhi - разреженность тем\n"
      ]
    },
    {
      "cell_type": "code",
      "metadata": {
        "id": "xM1GFWrqnZcE"
      },
      "source": [
        "def objective(space):\n",
        "    model = artm.ARTM(num_topics=space['num_topics'], dictionary=bv.dictionary, cache_theta=True)\n",
        "    model.scores.add(artm.PerplexityScore(name='perplexity_score', dictionary=bv.dictionary))\n",
        "    model.scores.add(artm.SparsityPhiScore(name='sparsity_phi_score'))\n",
        "    model.scores.add(artm.SparsityThetaScore(name='sparsity_theta_score'))\n",
        "    model.scores.add(artm.TopTokensScore(name='top_tokens_score', num_tokens=10))\n",
        "\n",
        "    model.regularizers.add(\n",
        "        artm.SmoothSparsePhiRegularizer(\n",
        "        name='SparsePhi',\n",
        "        tau=space['phi_tau']\n",
        "    ),\n",
        "    ) # Сглаживание распределений терминов в темах. Используется для выделения фоновых тем, собирающих общую лексику языка или общую лексику данной коллекции.\n",
        "    model.regularizers.add(\n",
        "        artm.SmoothSparseThetaRegularizer(\n",
        "            name='SparseTheta',\n",
        "            tau=space['theta_tau']\n",
        "        ),\n",
        "    ) # Сглаживание распределений тем в документах. Используется для выделения фоновых слов в каждом документах.\n",
        "    model.regularizers.add(\n",
        "        artm.DecorrelatorPhiRegularizer(\n",
        "        name='DecorrelatorPhi',\n",
        "        tau=space['decorrelation_tau']\n",
        "        ),\n",
        "    ) # Декоррелирование распределений терминов в темах. Используется для повышения различности лексических ядер предметных тем.\n",
        "\n",
        "    model.fit_offline(bv, num_collection_passes=30)\n",
        "\n",
        "    perplexity_score = model.score_tracker[\"perplexity_score\"].last_value\n",
        "    print(\"Perplexity:\", perplexity_score)\n",
        "    return {'loss': perplexity_score, 'status': STATUS_OK }\n",
        "\n",
        "def run_hyperparams_search():\n",
        "    space={\n",
        "        'num_topics': hp.choice('num_topics', topics_to_check),\n",
        "        'phi_tau': hp.uniform('SparsePhi', -1, 1),\n",
        "        'theta_tau': hp.uniform('SparseTheta', -1, 1),\n",
        "        'decorrelation_tau': hp.uniform('DecorrelatorPhi', 1e+2, 1e+5),\n",
        "    }\n",
        "\n",
        "    trials = Trials()\n",
        "\n",
        "    best_hyperparams = fmin(\n",
        "        fn=objective,\n",
        "        space=space,\n",
        "        algo=tpe.suggest,\n",
        "        max_evals=20,\n",
        "        trials=trials,\n",
        "    )\n",
        "    return best_hyperparams\n",
        "\n",
        "topics_to_check =  [10, 15, 20]"
      ],
      "execution_count": null,
      "outputs": []
    },
    {
      "cell_type": "code",
      "metadata": {
        "id": "gKTEQR6ClM-y"
      },
      "source": [
        "%%time\n",
        "best = run_hyperparams_search()"
      ],
      "execution_count": null,
      "outputs": []
    },
    {
      "cell_type": "code",
      "metadata": {
        "id": "-pOr0cTmYIvV"
      },
      "source": [
        "best"
      ],
      "execution_count": null,
      "outputs": []
    },
    {
      "cell_type": "code",
      "metadata": {
        "id": "HQCL881kHaiB"
      },
      "source": [
        "best = {'DecorrelatorPhi': 4866.0035641670065,\n",
        " 'SparsePhi': -0.8213910238651811,\n",
        " 'SparseTheta': -0.12649673715406706,\n",
        " 'num_topics': 1}"
      ],
      "execution_count": null,
      "outputs": []
    },
    {
      "cell_type": "markdown",
      "metadata": {
        "id": "isl-b72aVqZt"
      },
      "source": [
        "### BigARTM model"
      ]
    },
    {
      "cell_type": "markdown",
      "metadata": {
        "id": "aa4pBILgAoP7"
      },
      "source": [
        "Метрики: разреженность phi, разреженность theta, перплексия, топ-10 токенов"
      ]
    },
    {
      "cell_type": "code",
      "metadata": {
        "id": "56BOHaeV3TUp"
      },
      "source": [
        "def fit_model(seed=SEED):\n",
        "    model = artm.ARTM(num_topics=topics_to_check[best['num_topics']], dictionary=bv.dictionary, cache_theta=True, seed=seed)\n",
        "    model.scores.add(artm.PerplexityScore(name='perplexity_score',\n",
        "                                        dictionary=bv.dictionary))\n",
        "    model.scores.add(artm.SparsityPhiScore(name='sparsity_phi_score'))\n",
        "    model.scores.add(artm.SparsityThetaScore(name='sparsity_theta_score'))\n",
        "    model.scores.add(artm.TopTokensScore(name='top_tokens_score', num_tokens=10))\n",
        "    model.regularizers.add(artm.SmoothSparsePhiRegularizer(name='SparsePhi', tau=best['SparsePhi']))\n",
        "    model.regularizers.add(artm.SmoothSparseThetaRegularizer(name='SparseTheta', tau=best['SparseTheta']))\n",
        "    model.regularizers.add(artm.DecorrelatorPhiRegularizer(name='DecorrelatorPhi', tau=best['DecorrelatorPhi']))\n",
        "    model.fit_offline(bv, num_collection_passes=30)\n",
        "    return model"
      ],
      "execution_count": null,
      "outputs": []
    },
    {
      "cell_type": "code",
      "metadata": {
        "id": "SHKqG0q_9by7"
      },
      "source": [
        "%%time\n",
        "\n",
        "model = fit_model()\n",
        "model.score_tracker[\"perplexity_score\"].last_value"
      ],
      "execution_count": null,
      "outputs": []
    },
    {
      "cell_type": "markdown",
      "metadata": {
        "id": "KdHGryV0eUgl"
      },
      "source": [
        "### Метрики\n"
      ]
    },
    {
      "cell_type": "markdown",
      "metadata": {
        "id": "Mi9kOPsXeahE"
      },
      "source": [
        "#### Perplexity"
      ]
    },
    {
      "cell_type": "markdown",
      "metadata": {
        "id": "VKKVI8AGu4ab"
      },
      "source": [
        "Мера несоответствия или «удивлённости» модели p(w | d) токенам w, наблюдаемым в документах d коллекции D. Перплексия равна экспоненте от минус усреднённого логарифма правдоподобия.\n",
        "\n",
        "![image.png](data:image/png;base64,iVBORw0KGgoAAAANSUhEUgAAAVAAAABNCAYAAADw1zwoAAAgAElEQVR4Ae2dB1CURxvHpdyBqHB2FBVLgi3Ggho1sRAV8yl2jVjQKGpsKMZuBI1ii7HELnZRomJPoo5iid3o2LGMBXFAwRFhKMPd3L3z++aAO+64A+7gkIgvMze8Zcuz/933v7vPs/tsCcQ/EQERAREBEYF8IVAiX7HESCICIgIiAiICiAQqNgIRAREBEYF8IiASaD6BE6OJCIgIiAiIBCq2AREBEQERgXwiIBJoPoETo4kIiAiICIgEKrYBEQERARGBfCIgEmg+gROjiQiICIgIiAQqtgERAREBEYF8IiASaD6BE6OJCIgIiAiIBCq2AREBEQERgXwiIBJoPoETo4kIiAiICIgE+kHbgIqYv2bS328/McIHzVjMTERARCAXBFQvdvGj91zOxJn3YYoEmguoln0lEHN0HC1bjuXYa/MqybJyiKmJCIgIGCKg4uXeYTRrNZnjb0z/PkUCNUSyUJ4kXAygtVtPgh8rCiV9g0SV0ZycO4CxITGY3hwMUhEfiAh8QgikcWfZt9RuG8S/KaYVWyRQ03AqUCghag8Darsx8mhc4ZKZ8IYzq2cwYeQPDOnZjIo2Er5a9BhVgaQXI4sIfEIICK8I9a5DwwkniTdh5CESaGG3DdVj1nhWpu6EcBILOy/SiHv+lJhEJarny/hGIhJooUMuZlDsEBDehOFTy5UBe6LyHPCIBFqo1a/i8epOVKg1gqPvTOjOLCiLSKAWBFNM6hNDQCB6R28qu3izNw99qEighdg0hJhd9Klcjq6b8u7JLC2GSKCWRlRM75NCQHmfxW2ccBt3OteZo0ighdYqUjk30Q07N3/+SS20THJMWCTQHKERX4gImIRA4p8jqFbKnXm3lTmGFwk0R2gK9kJ4uZHvZGXouCaySIw4IoEWrP7E2CICKO8wt5k9Lj8cISEHOEQCzQGYgj1WciugCdJyfQh5+2F1nxq5RQLVICH+FxHILwICr9Z7UqZMR1a/ML6WRSTQ/GKbW7y0cMbVlFBl6OFc9Se5JVHQdwUlUOWdQJpJrChRokTh/Wzd+Omi3LSiKu8Q2EyCVWHKU8IWt58uYqJEpskthvqoERBit9LdSUKTgNsYm8iLBFoI1Zvyly8utpUZeji5EFI3LcmCEiiqZ2zuXhnrdMKywq6BH6ffm5a3OpSgUpCWnEBc9HMibl7k5MHtrJo3iSGejXG20xCzNc6DwzAtWRXPNnensnUGoVvZNcDPPIFQpCWTEBfN84ibXDx5kO2r5jFpiCeNne20xGztPJgw0wQyHQwx5EeMwDt29ZYhaTSbG0YYVCRQi1etnNNjamBbtj+hOSlOLJ6nYYIFJlA1CcbsZ4irbQa5WEmoOewAltiFmvbyPMHTetOonC1WZTqz9qWJag4hhv1DXLG1UpOoFZKawzhgGYE4HzyN3o3KYWtVhs5rX+a5/s8QcfFJ8URA4PXGLjhIGjLzuuEuQpFALV3rimtMry/B4btNxJrIC5YWQZ2eJQgUBOJPjqeeNHPEaONMr60vLGYUU0b9xfQ2zjQLuGV0emQMFyH+JOPrSTNHjDY499pKDuopY9Fzf6aM4q/pbXBuFsAtI6ON3COLb4srAqpnv/K1VEKzufcM2qlIoBaudVXEAlpI1GDfNQDbwlnlmpzqYRAt0+UwrPRcIxq8TObyz+6USh/1lcBa5sHy+4Y9sUE0Ex8I8eFM8ZrICTO0HcmXf8a9VCapW8vwWH4fi0kkxBM+xYuJ5ghkYlk/uWDCa/458g95rEU3GRYhNpydh5+aHF4/YALXjp4iMj8do+IyU+vaYt9pnYEXtTwINImo+7e4dfMmNw1+t7h9/wkxScatU/rCfzp3bzd3paRNFXz/SiuCQidzZskwfIZ449XCFZmTE7IazfHy9sFn2GLCk/Ipkvwuv7aXafWhpZoHctVEZwum5Jh0dilLT5qz0VXO3V/bI9PoQ0s1J9CyArF06ckiMwCagplhGIH4J1c4e/wI+3fv5NST/DCFYar5fiLEcOSnQQSEv7OYOkRxYTLNB4eZJpIqnidXzvDXwVC2bzuO2odPyo0VjBi/m+dmU1YSof2csCnnzf5s31DuBJr8LzsCZzCxb2OcrK2Q1P4Ov1lzmDNnDnNmT8NvRC++qulCg24zOPBUtF2CnHN+tbGRdmBlVBHO301rYmaFUj0LxquSdYZF3sqO+n6nTDT+mJWN6YFVzwj2qqQldbv6fpz6pI0/Su7uCWBCr4aUsbajx04L9nCm10pmSAX3VvSi1zILzgwANYG6D95vkjRC/CWCAybh5WaHbc3xnEmnJxUvd/jgFXgF89BRERHUAomtoR40dwLNFDVp7/eUtbaj3Qoj+q/3pxnvZou0rl/+RzgmQfIRBBKiWfOtHTZVfTle7PoTgZh9g6lhmzF1trKtydADry02ushP7Qox+xhcQ2PksqXmUMsYufIjy38mztuNeNoVLYGqnq2ha9ufuW7hb8AcAk2vDyGK3z3sKfv9XrQDR9UjfuviwYLb5il9UvZ9j5N1KXru1LcMm0Cgcs6Mq4mN5EvmGNWspxI2UIaVdUWGHimKaet/pumC/DRjatggabWYx2ZPE/5D5chJFCGeE+PqIs3Uh9o492Sr+fOhnFLPx3OB+BPjqKtj5Oq59bnFjFz5EKjooyRspVuREmgCR4bXwyvY8n5ozSbQhN30lZWk45povY7+/b5BuPXaZtaKEuW/s2gosaXhzOt6to28CVR5l8CmEmyq/8gpYz2KEMnydlJKWFdhRJHo/Yq+zWolSNxJTwcrHHrtyurxtC+LyUXyJWY3c8i0glsj8/gNC9qU8gFSMpdmN8NBx8j1W9EKlI8yWDBKEROoELuNnjV6s+OtBcuUmZS5BCo/MQoXaVMC72bTBycfwse1Pb89NX2UI8RtoLPUCpl3GLquLfIkUCF6Dd/aWyPru8foflAhaj2eZaywrTOWU2ZYUi0Pr5y3jy5x8vhZbkfrFtH8nFRpCcRGRfImvTwCae+iiIxN1evFjKWqeryYVhIbqv94qljvZpHfWUo7mUYfWormAVfN1CkZQ68Az+R3WNpO18gVYFEjl1HJVMm8fvmaZN1vUJXCmxeRxKUWof7bKIEKyBPjiIp8Q8YnqiIl9jlPIt9hypxRSIklJl5/ypv2NoZ3RgZUb7d6Ud5jNa9ygkARz6uoeBO+DyWJCSl635wpBKpIeMXzVwkoUfLvrC+Quo4l3EDOeLb3KEfb38yYraTux1tmhbTjWr2Ra54Empiu/7TH43cjLtmU0RwYXgdp2dYEni8qDb5AbPh8erbpjN+6Y5w9/Qfz+7Sk7cSDGUsWFFdYNbwvnZp9RnWXqlT93JNlN9U9Uhqnf2pKdZdqVK9VnxaegZxJjeXI9P/xVS1HrG2q4rN6G4FjRzF+1iKCpgzCo7kHozbdMNqRqD8yxfmJ1LGV0HDWv3rDfKMf4Ef9UMXTTV5U0ljB7erjV8QWHNXTTR/OyKW4x4ZJ/ixZOIiv2szmbHwM4atmMX1OEGuCVzKqvTvewRGWW1plTlvJTqDy8wR1b8NnMhusKw/nyJNjLJ0VyNJ129g4uyv1G/Rnwz0DhtHmqHy8jZ/8FvGrb1ta+f/Fi1vbCZy5iHVbNzJ3QCe8V9/QWa2Qxp/DXXDzv2C07Ck3g5k+7VfWTulMkyF7yLKzCrzaM5Qm3y4iw/GRkvtLv8HJvj7TLmURd24Eqoj8k8AB3Rg043e2rAtk3M+rmf61HbL+f+jIpymWkjuBTSnXOyTHb1kTUvtffobxNW2QNNZfI5wHgcoJH+uKjW19Jp2I5NWrV+m/yCe3OBsyjwFNXXHrMpXQB3kPPYU3fxPkO5ShPj74mPobOpzJO+5ry2DsIu3GfFrJqjMkLDart0oOZ/xn5ei0+qlWH6aKPoSvmz3lu2/RVpzy+ixau49kVzb51fqOLyQSXHpt4KG2ixZ4f2Em7qXL0eHX20Z77rQ/R+BsLaHVp3CMhhDN3kHVtbuCbF19CLPEriBjlWzSM4HovYOorjVyueITVjhGrqSjU/APS4DkEHqXKs0XXfxYfT3LuPB2UxdK1hjD6Zx5SVsiVWoSKVkcoX2e74vsBJqekIqnS9tgV74dg+eF8FSTn/CSFe3tkPXdncOKilTCZ/qxM04gdd/3yOyq0X7aIaIyR93pmzVKNWK2ZoeO6ilL25Tm2zVG9J/yGyyesIoHSkgJ86acQ092aiw7QhxbupXGwXND5uhOIP70JL4oWYreIVn28pwIVPlkG/1q16TfrsjMgYtATHB3ZLb2fLv6VRYv6ICauKMHZXLYnqkTLOtS+S+zvpBgU9uPczr1mjuBqh04NJFgLWuN77wFLFig/gURtHQNOw6f5dbLRC1BZeWUw5UyjojL//DP+fOcN/X3z0VuRWUBaJCyEMMWLxkStylc1jSK9EByTo+tgX2LICJ0plipNxbQRlaBjivvI5c/YP3YqRyMNpxrKO//grukDP33ZlcFJHF4WBVsnL5jg5Hth2kHBiKzltJ+pZHRuoHwH/8D4d1xxrrp7ArquSUfa+wsiIPwjuNj3fSMXFssbuRK5c9pkzmQAIorU6krqUDPbbofqYrHi1ohrTSMo9rO10gZFXfYNsEDV0klhuUa0Ejc3B4ZJVCBN+s6IrWpybiM9TyZKaRxcHA5JE0Dya4mTA8gP82MCbuIE1Q8mN8cacWB7M/qJyBxO93tJbRYEJGRnvwcE2rLjHw3kHZqJpP2vEUgiSPDqiDVJa+UwwytJMV9/gOdmVsCewY0Z/KFrA/bKIEq77Hka0ccPddrB0ZqYdL+9qWqtAmBOfjyTFP7q6g0FJPt3sq7zG0mwcZlFCdMJVDh1Wq+tbfCoctGi+0myKw5y/xLCqWfkxWSr6ZzTI+Uz7LnxwZIKv3AMb1GrOTZlh5UKd2IXkNG8ut14+ScM4HC+x09KGXlwHebYg3KkLqnNw5WUjquNXHko3rMH7NGMWL4cIab8hvhy/g1lzL1WFnZjxw5kpo1a5r869OnT1bkAl4lX5pFMwfNVs9aTNDtnguYdr6iJ19iltbIZUOtCedM0LeZk5OKuOjXyMkY1Ull/flDbw9AfLrzCft2K/LcYpq+a03Wlc2W3PObG4FKPVilp5xM48jQiki+mMW/2ews6YgI74iOSQXhDRu7OFDaayu6tiHl3bk0k0hoHHArA8C0PxlRpRI+h/U+uvR3qrhoXquJJ2E/AytKaRZ4R0uWiks/4SatjZ9e20nj+E8TCNXB1hiBvts3kMo2TvTa+U6nEpXcmN0IaS6zAPnZ8dQq04c92cdIOqnoXaoesbClBOuK+h1jriPQxNB+yKwltAiKMH2kqZdr4d4I0b/jIbXCrl0gJ/UINGOU+8/1ZyRmH2AKMWztLkNS6wcO5bDHLDcC1UzT1Vs1s/+l7u5NSSup8SlM9sDp9ym8vHmeM+HhhJvyO3OWS4/iDaYkcXFxvHjxwuTf69evjUqTv4dy7gS1ppS1HW6+hwy2uuUvzYLFkt8JonUpa+zcfDkUk70BFCztrNhv2epVmpId16I3iUk8wOD00dR9LUFkxdG9EnizsQtOrRZZdslbrgTakXV6bT6TQBvO5LoxAtWImxzGoPJSWi95oscDb7d0o5S1I712xmeElB9npIvxEagmqcT93lSwa0nQQ83UMHPEXn4gYbqaQOUDls3cqGeMMiTQRPYNKIe1fSfW6dazEMmKdnbI+oUa0X9miho+FldZfwwmmRpBs/9XPWZRKzWB6o9acyHQDK9CNrafMUlnGJ09XVPvhTcnWDxmhOmjLfWIbMRIpoU8yDmL1IMMKmeN9Ns1epaxnCNA0uWF+E5fzpSWTjh324ixHW+5EWjCjp45j0D3eyOzktJueaQByeUm00f9Lu0uKzpVolKnldw1HHgUQdHSuLuiE5UqdWJlYQqUepRhlaW4z9P3NZCwfyAV7dyZf1/NSMnEv9eZ76Ei6cUVjoTs4WRENGGDKlP3p0tag4s85jqHdu7lcnTWtFV4/5SI6AxghdjrHD75MPcVD4VAoPJzftSW1mWqnp5MTV7lsZH1YJtG9624wrR6DvxvcyahGtS+nBOjXJB+OUfHWUs827qXomTn9XrfsPL+MqaseaZH2AYEqrzHPHcJkkY/67uai99JL0eN4VtJwvskg+8x7bAPlarpT8cNxNV9oHzAfHf1FH40J3WqNGcCVd4moLEE6wqDOWh8pqubfN7Xijfc++eM6aMt9YjszDmuv9Bomo1lEU/Y4CpIqv7AUd3eKz1oKle279KpKLV7toNMGx/MIwUoH2+ga2UnWgZeNZgSZxBoafqGZh/fJ3H0h6rYOnUxrgM9OoxKaiPS4k/kLHYhhkO+bsi+8ON4XGGN9IzVe07PBGIO+eIm+wK/43EGH01OsfLzXHF5CnWlrtl0iu8I6VMW+9aLeaQC5Z3FTN0QlZG8EMu5oL50n7SXiLgYLvzqTcMKzgw7kvFxqZ7vZuaMnVwN8aFmh+VkLFFM5c8R1Wgw7SoKVESu7YSjzJuw7M1StwAWJ1Al939xR1rRh8M6+QpvdtCrXEkaz7qSZVAVXrO2Y2m+WvRIj/i04gmxrO9sh2P/vVlrKdN5xo7afrqqFgXXg6awOctMn56EAYGqHhLUQoJ9t6161vSUY8OpIm1MgHrjT+IhZgaczqbGEYjb0JnSX5kx+lfe4OdGEmzrTOR8Vv9GjgSqerGcdnZW2Hfe8N/Uf2bWiurZNnq7lKXdkrtZFalWIt9bxZjAs9oF7fKXR5ncpjMLtVYlgZiQfjjbfc6IA6/0plsZBGpLrcF/6HlvSbwSyFdlyuOx7E62CskQRn5uArVsJDT6+aZeetoGVKwukrke1JbyLj3YpO6R/gN/ydeDaFvehR6bHmlHdYUjloonS1pjoP9UXGTy5/Y0n/8AFYmcCphOaPqUWcWTtV2o2vIX7mRCla4/lHVjS3rHo+DywunsilZwd6475Xtsy3CFqLiAv1slBmnmtvKrzOz0Y+7bhDO3cnbdorusUODVqg5IpR0MdKAHBpVFUn8aV3OqQiGGdZ1LYq0eaWp0tUIsR3w/p2rH37ilQ6qg4MrU+lQddlTvW8yqg1T+8nWhtI6rR/mdxXiUt8fF929tHMX91Yydd95gYGNAoCi4NMUNh/Yr0dh0hdgTBHRwQeI0gH2pkHBgKjP+zj4CVPDPJDdcR580+h1nyatzJT/LhFo2Bo6VsxGoQNzf8xjyfR+6NHHBybEMTq5f0XPAEOYc1t8OpZN0kV+mPgzF37M1nmMWsjk0lE0L/Rk1dQf31frvuGPM7vE1dSs7UsqhHO5zMqdMqkcE96mDo0MpypT7jDY9B7HgZIaJUTOF7zpjGT9N+oU1e/axbZEvHk3aMXrzrRz1KqqIIFpIbKhWzBfSg4qXoYOoJXNnxjndD7XomoLqZSiDaslwn3EuhyU5lpQtlX3fy5B125xN55vAqUlf4u67nm0L/QkIyzxQUH6eiXUc6LBSo9rJ1H+2XsITjSpQLZ7iGjMaVqTv7gyDiOrhQlo6erJBM0VW3mbx7O05+JlVcHnFMPp0qEsFR0cq1vOgz/BVIL/AsiG9aedWDkfH8ri17c3gpedJureZcf0706iKI44yV1p6efPz4RhDkJL2411OSovxC/Aft5g9h3az2LcL/xu3g3sGsz5I/XME1b/MwSiV7qc2lNGtWzNwcSgHts1nzI/LOXtxFT2atGf8hgMc2rmMmbO2cis75+XgTER4d5a5nl/j/eteDmxdzLQZ67n0cD8j6n/F2OB1TJu80XCnnHq51dfO9A81o+2mHWJI+Qx1oa66NRuBGuL3MT1RJr7kztVrPHit1y2aXQQNgaYvY1LE8/zWNW5Hqnc35PEXv5n/2VlRpm9o7nqqPJL5r79OuDCbFjJXvt9lxk6OwixUwgVmt5Dh+v2uD7aMKjX6Ic/eG1NbpPDqznXuqa3XmX/Cy5W0d2jADM16SZLT9Z/1pl5GnvKKqMyDB9XnUDUt25MdmSrEd1u9kLn/Qro6VU0+D1cRsPnDLpFTW6trSusx7YoCkqO4ffVfHsfpKAE1hdT8TzvDeLfmzLuXy9ciJBMTcZ2L1x4Trwkmf8uja5e48fRdjrMHwxGoBuBU3kRc49rDuKy4Ka+4e/sZCbodlCZ45O90rOXDIR0Lv0b8nP4LsevpLLVGNvCAdqSsDlusCDSnwpv7XI9AzYksP8loFxskbZbyzEjFmZPUfzWs8skWelcrR5t5V7TqkSKVVfmELb2rUa7NPK7kpi4vSiGTwxjo/DVLMvdeCzEh9KtSkcEHk3m9fQ7L7mSwiOKCP3VraRbgK7g6vT6lu2/PxDmRMwsXcDQn+0yhlE/J3bnNkFb+gWNZ/UEeOSm5t+gb3Kdc0iOaPCKZ9DpHAjUptiaQknsLvqHF7Gtmyae8FUBjiS11p17OImmRQDWg6v9X3laDVYreu43MI/SD6t8JUaxsL83Z8Yp+6I/uTnh7Cv/GMj4fFqa3vKSgBVE9Pcief/LBfsJbTvk3Rvb5MML01jcWUCLVUw7u+ceCHYSce+u98fJdxpbgFQQtWc/iwU3xnPY7gfP381LT2SoesHGAB31mb2TnpgXMWTCHIW29mLEllM1L5rD8hInriwtYfG10IZKVHexx+F8wZtkIUy4wrW1vgiM1BdOmWKALSxCoELsPn69H85cZs3e10KkHBlHO2oFuW3XXm4ojUP0KFeL4a+4gerSsQRkHByrU/5Z+Y4LJHCDohzV6J+fESBds7DzZoFG4Gw33ET6U32fNd85U9FiWzXBQwLII0YSOGMraSGPT4dzSlnN/zXc4V/Rgmb4lI7dIJrwTiA4dwdC1Gn2lCVFMDKJKjiU2UTtn5V1MXJY1WpuGQErsC56/Ts5cRaAi+U0M8bnMmrVRLXihvL2J0b1aUr2UPaVdW9N76FLOmtHHJV2ZR68hW3mmKa4FZCswgQqvOfhjT6afeW/mCg0Vjxa2zL9DZQuU/aNJQqXS7zUFlcoMsAVer+9MSZtqjNZdLPZBSq8i+fVLXuu7ByLlzQsi4/L2JJWriMIbjo6uh6zBGP60ZMcgvOH0jNbU6L7FzJUeAm+OjqaerAFj/tTxgZBrIUx5KfDm9Axa1+jOFr0F56bELW5hVKh0+jSV0pzvQI2FildHZuA7/yzxOukUBCXFlWm0GXYon0mkcGPVaCbteao3BTctsRQODCqPjWNf9mTrREQdqGkImhxKeW8e7pIPvRZUwb0Nk/BfspBBX7Vh9tl4YsJXMWv6HILWBLNyVHvcvYOJyGmpSq6lS+Hmkg5UqNKVdRGWGgYJxN/czsQO1bCzLk//P8xT7KXcXEKHClXoui7C9GUouZYRhPibbJ/YgWp21pTv/wfmSZRH4p/w65R38UZG2fkERPmOmNj87tZQ8D7ecEG9SZIorjK9vi12bX8zMFKKBGoSgmYESnd7ZYtjzx3oa0vMSMPcoElHmeIfRgLJhPQuRekvuuC3+nrW4uK3m+hSsgZjTHEPpJe3iqh9PtSRNWFKuOEWUr2gedwok2J4ePU4Icun4v1NLcrYZOyft1FvgsjWq+eWlCpqHz51ZDSZEl6wkY0yiZiHVzkespyp3t9Qq4xNhpNom6r8YI5AuQkrvisWCAhRq/Cwk9A00PCkXZFALV7FKRwbXhXbikM4ZGSdnMWzUyu4/5zG5Az3QEytK6FCz216Rh7V40W0kprv9SfpciCtnKyxKVubZu7uuJv1a0aTLxtSt04NnMs6ILHKdDhSokTGwXTp/22oNS7cdGto0mUCWzlhbVOW2s3MlcedZk2+pGHdOtRwLouDxCrTq76uPCWwqTWO8PwOcgqjcsU0ixgBgbfbeuAocWPyRcMpnEighVA9KWpXWZIajDn1Yb5Ejacb1dOltJHK6K/vHoj4Xb2R2bdjxQt9/W6uRY8/wnDNgW16pKdPOCUK8s42c31hroJoXsZzZHiNTP+jFpRBT35b6k27kg8dmUZG8X/xQyCBP74vh21N4x2rSKCFUeOpJxhVTUK1kcc/6IJ69XEKpUt2ZK2+eyAODK6E1H2+dkG2aUUWUMrTSE1NLbxfmnqHt+l/glJOWmHKk5qGwhyBTBddDPmxIvB+H94VJbhNvmBU3y4SaKFUrIJrM79A6jyUw2bo9womSipHh1VG6j4PvU0g6f4X7XCfn+FeLTn+vdGGULC8xdgiAsURAYHXW7xwsnPnF72PKqusIoFmYWHRK+HlOjydZHQN1vVWbtEs9BNTXGZKXSmu487oEeS7kD6UtW/N4gz3QCyeukHPc7d+IuKdiICIgBYB1VOWtytFWa/N+j5ftQHEhfQ6UFj6Monjo1yxbxJA+hl2lk4+W3qqJ0tobaD/VHBx8ufYN5/PAxUkngpgeugbM9a1ZstEvBUR+IQQSDkzns/s6jL5Qs77WMURaCE2CCFqKz0qOdMvpPC34KUf+iXrxmZdVzHqExROTeJLd1/Wb1uIf0AYFt5dV4joiUmLCBQhAqoXrOssw7nfbj1Hz9klEgk0OyIWvVcS8WtbZG7jCS9sXWhqNA+fGd+ilvLqDtfvxRRwQbOK1KSUT8xC/SmW2aIfwEeamMDbw8NwLd+J1Y9ztyqKBFrYVZx2k6CvK9Ns9pUPapG3ZLEUd7YxwcMVSV4nTeaSqerFEYLG96JZlQp81mEofv7++Pv78eMPA/Dy7Mn4tZfMc1iRS16WeGWJMltCDjGNIkAg8RTj3CrScdXDPF1YigT6AepH+XQTXjWaMv1CYQ9DC6swKiIWtEDWdbMRZ74K4p//y6l929i4cQMbNmwkeO9Vo3vbhajf8ShZFd+/9dfHqt5dYVHH6jSZcjZr95RFi2K6jFnZ5lbmrFDiVTFDQIjj2Ki6uPbdaZK6SyTQD1L/Aq8P+VLPzYd9ems0P0jmBc8k/VhbJ1ot0j/rKfFWMKM6d6CH71Tm/76FXSe8ZWcAAASnSURBVCEhhITsJvTYLTJ9BOvlnbCnLzKn3uwystFc7QvTzdGD381Z7K+XuvEbc2XUppJDmbXvxYtiiICSp1t649Z8GmdM9IAiEugHawZpRGzqwxffzOGCmb4IP5iIuhmpknhx5Qghe04SER3GoMp1+elS1lY2xf3f6fXteA5GZj3TjW54LefUj9Up2W4FxjzXCZEraGdXjsGH9Een2nTkMVw/tJO9l6Oz9LDCe55GRGdsBRViuX74JA91XLiaLWMeZdbKIl4UQwQE4k5MpGXT4ewzw9IqEugHbQpyHu0YjufofdnO0vmgQuSZmRB7jqC+3Zm0N4K4mAv86t2QCs7DyDxAUn28Kdu+78ICzQlpeaYIKG8x50t7Gs2+YVSvpLg4GTeJC6NOGPH4pHrO7pkz2Hk1BJ+aHVie6dldff5OtQYZB6KpItfSyVGGt+bISjNlzLPMppRRDPPRIqB6thWf78ZzQOvd2rSiiARqGk6fTijVE9Z2qUrLX+5kjvQyjnWQdduSZeRJDGGA1yrtSYimgCO8XEWHktWMEyQqnv/WFjtHL7Ya8cOpuLyQ6buiUdydi3t5zemQCi74u1FpUFjm6Y1yrs7sxI/HMwnYHBlNKbMphRTDfHIIiAT6yVV57gWWn59IHYcOrNTMszN1ga2XPNHuWxdersCjehM6eXriafDrQreRW4jI5ok8YXcfZLI+7M44+FRfCOVdfnEvSa2Rf+VyoqaCazMaUrHv7gw3gaqHLGzpiOcGzRpbJbcXz2Z7psNnc2Q0pcz6Aot3IgIZCIgEKrYEHQQEXq5sj0ODGWQdIKnWf9Zj6mU5Ka+iMoxDqUfw7RzI7WwkqZNQtks5J0dXw8FjlZFtpEoer/0OlwY/ciw3b/fKOwQ2LUvPrCMr8ZK580vWkZWsCticlb7JMppY5mwlEm9FBNQIiAQqtgM9BJLDBuL89RIy1IwCMSH9qFJxMAeTX7N9zrLM86GSCZ/owfADJh6nobzBz43saRxwS1//qYrl0sr+uH89nrDneRijFBfwr1tL6xRacXU69Ut3Z3vmyrDEMwtZoHdkpekymlZmPZjEGxGBdAREAhUbgj4C8nus9/bCd9kWglcEsWT9YgY39WTa74HM3/8yaxoff4aZnTvhv+9Rpg5SP5mMOxXPDi1k8vC2uNhKcOvuz9SpU5k6xR+/caMYNnAYP609yysjdiPD1BQ82DgAjz6z2bhzEwvmLGDOkLZ4zdhC6OYlzFl+wmDLnWCSjICJZTaUSXzyqSMgEuin3gKMll9FcmwsWQdIviMmzohDhcTb7JzSl84dO/NdzwEM8fHBx2cow6fu5pHJ03ujAuT4UEiJ5cXz1yRnHlSmSn5DTG5HVposo4llzlEy8cWniIBIoJ9irRdCmRUJMURGvuDFi0hexiZpR6qFkFW+k/wYZMx34cSIRYKASKBFAruYqYiAiEBxQEAk0OJQi2IZRAREBIoEAZFAiwR2MVMRARGB4oCASKDFoRbFMogIiAgUCQIigRYJ7GKmIgIiAsUBAZFAi0MtimUQERARKBIERAItEtjFTEUERASKAwIigRaHWhTLICIgIlAkCPwfUyjivRkUResAAAAASUVORK5CYII=)\n"
      ]
    },
    {
      "cell_type": "code",
      "metadata": {
        "colab": {
          "base_uri": "https://localhost:8080/"
        },
        "id": "3Fa4dIfGLu_N",
        "outputId": "63fe83c6-da63-4a38-c40b-260e41dfd96e"
      },
      "source": [
        "model.score_tracker[\"perplexity_score\"].last_value"
      ],
      "execution_count": null,
      "outputs": [
        {
          "output_type": "execute_result",
          "data": {
            "text/plain": [
              "671.355224609375"
            ]
          },
          "metadata": {},
          "execution_count": 72
        }
      ]
    },
    {
      "cell_type": "code",
      "metadata": {
        "colab": {
          "base_uri": "https://localhost:8080/",
          "height": 447
        },
        "id": "p7FfO2bWCMs2",
        "outputId": "e9c22acb-c22f-440e-8ea2-dd953d52f492"
      },
      "source": [
        "plt.plot(model.score_tracker[\"perplexity_score\"].value)"
      ],
      "execution_count": null,
      "outputs": [
        {
          "output_type": "execute_result",
          "data": {
            "text/plain": [
              "[<matplotlib.lines.Line2D at 0x7c61ddcce440>]"
            ]
          },
          "metadata": {},
          "execution_count": 73
        },
        {
          "output_type": "display_data",
          "data": {
            "text/plain": [
              "<Figure size 640x480 with 1 Axes>"
            ],
            "image/png": "[encoded data removed]"
          },
          "metadata": {}
        }
      ]
    },
    {
      "cell_type": "markdown",
      "metadata": {
        "id": "zc2FqM9ZIiJN"
      },
      "source": [
        "#### Sparsity"
      ]
    },
    {
      "cell_type": "markdown",
      "metadata": {
        "id": "VhVnkpYkyVVH"
      },
      "source": [
        "Sparsity Phi - доля элементов матрицы $\\Phi$ (или ее части), которые меньше заданного порогового значения eps."
      ]
    },
    {
      "cell_type": "code",
      "source": [
        "model"
      ],
      "metadata": {
        "colab": {
          "base_uri": "https://localhost:8080/"
        },
        "id": "xGyrv2zARvQt",
        "outputId": "4feba042-51b5-49cf-8797-f2544626a8a6"
      },
      "execution_count": null,
      "outputs": [
        {
          "output_type": "execute_result",
          "data": {
            "text/plain": [
              "artm.ARTM(num_topics=10, num_tokens=939)"
            ]
          },
          "metadata": {},
          "execution_count": 74
        }
      ]
    },
    {
      "cell_type": "code",
      "metadata": {
        "colab": {
          "base_uri": "https://localhost:8080/"
        },
        "id": "dxq1PeQ2Ltzu",
        "outputId": "ca04e9df-5714-457a-ed88-e31725ab26b2"
      },
      "source": [
        "model.score_tracker[\"sparsity_phi_score\"].last_value"
      ],
      "execution_count": null,
      "outputs": [
        {
          "output_type": "execute_result",
          "data": {
            "text/plain": [
              "0.503727376461029"
            ]
          },
          "metadata": {},
          "execution_count": 75
        }
      ]
    },
    {
      "cell_type": "code",
      "metadata": {
        "colab": {
          "base_uri": "https://localhost:8080/",
          "height": 447
        },
        "id": "ANhpYjxlJytl",
        "outputId": "67bb6518-cdc8-4c27-8fca-491c0b3eb918"
      },
      "source": [
        "plt.plot(model.score_tracker[\"sparsity_phi_score\"].value)"
      ],
      "execution_count": null,
      "outputs": [
        {
          "output_type": "execute_result",
          "data": {
            "text/plain": [
              "[<matplotlib.lines.Line2D at 0x7c61bb520070>]"
            ]
          },
          "metadata": {},
          "execution_count": 76
        },
        {
          "output_type": "display_data",
          "data": {
            "text/plain": [
              "<Figure size 640x480 with 1 Axes>"
            ],
            "image/png": "[encoded data removed]"
          },
          "metadata": {}
        }
      ]
    },
    {
      "cell_type": "markdown",
      "metadata": {
        "id": "KfIatk0kynn4"
      },
      "source": [
        "Sparsity Theta - доля элементов матрицы $\\Theta$ (или ее части), которые меньше заданного порогового значения eps."
      ]
    },
    {
      "cell_type": "code",
      "metadata": {
        "colab": {
          "base_uri": "https://localhost:8080/"
        },
        "id": "dGieKfgHIg7q",
        "outputId": "359eca06-73f1-4650-861d-54019958947a"
      },
      "source": [
        "print(model.score_tracker[\"sparsity_theta_score\"].last_value)"
      ],
      "execution_count": null,
      "outputs": [
        {
          "output_type": "stream",
          "name": "stdout",
          "text": [
            "0.0\n"
          ]
        }
      ]
    },
    {
      "cell_type": "code",
      "metadata": {
        "colab": {
          "base_uri": "https://localhost:8080/",
          "height": 447
        },
        "id": "WTtxMEbuL4Cq",
        "outputId": "7ae67821-3be6-4735-d47f-13702cefb916"
      },
      "source": [
        "plt.plot(model.score_tracker[\"sparsity_theta_score\"].value)"
      ],
      "execution_count": null,
      "outputs": [
        {
          "output_type": "execute_result",
          "data": {
            "text/plain": [
              "[<matplotlib.lines.Line2D at 0x7c61bc265090>]"
            ]
          },
          "metadata": {},
          "execution_count": 78
        },
        {
          "output_type": "display_data",
          "data": {
            "text/plain": [
              "<Figure size 640x480 with 1 Axes>"
            ],
            "image/png": "[encoded data removed]"
          },
          "metadata": {}
        }
      ]
    },
    {
      "cell_type": "markdown",
      "metadata": {
        "id": "Q2eAKKr8krdW"
      },
      "source": [
        "#### Topic diversity"
      ]
    },
    {
      "cell_type": "markdown",
      "metadata": {
        "id": "77d8ONMf3uwi"
      },
      "source": [
        "topic diversity - процент уникальных слов из топ num_words (10) слов для каждой из тем."
      ]
    },
    {
      "cell_type": "code",
      "metadata": {
        "id": "Y2macEZVkrB-"
      },
      "source": [
        "num_words = 10"
      ],
      "execution_count": null,
      "outputs": []
    },
    {
      "cell_type": "code",
      "metadata": {
        "id": "dl0yu8OLkrGm"
      },
      "source": [
        "word_topics = []\n",
        "\n",
        "for topic_name in model.topic_names:\n",
        "    temp = []\n",
        "    for word in model.score_tracker[\"top_tokens_score\"].last_tokens[topic_name]:\n",
        "        temp.append(word)\n",
        "        word_topics.append(temp)"
      ],
      "execution_count": null,
      "outputs": []
    },
    {
      "cell_type": "code",
      "metadata": {
        "id": "Wdqf_1qskyVP"
      },
      "source": [
        "def td_score(topics):\n",
        "    if topics is None:\n",
        "        return 0\n",
        "    if num_words > len(topics[0]):\n",
        "        raise Exception('Words in topics are less than ' + str(num_words))\n",
        "    else:\n",
        "        unique_words = set()\n",
        "        for topic in topics:\n",
        "            unique_words = unique_words.union(set(topic[:num_words]))\n",
        "        td = len(unique_words) / (num_words * len(topics))\n",
        "        return td"
      ],
      "execution_count": null,
      "outputs": []
    },
    {
      "cell_type": "code",
      "metadata": {
        "id": "5864tdMhkzwV",
        "colab": {
          "base_uri": "https://localhost:8080/"
        },
        "outputId": "6d76faa2-5de4-49d0-857d-5d95dcf2c0a4"
      },
      "source": [
        "td_score(word_topics)"
      ],
      "execution_count": null,
      "outputs": [
        {
          "output_type": "execute_result",
          "data": {
            "text/plain": [
              "0.01"
            ]
          },
          "metadata": {},
          "execution_count": 82
        }
      ]
    },
    {
      "cell_type": "markdown",
      "metadata": {
        "id": "bX4o9uSxLK4D"
      },
      "source": [
        "#### Coherence"
      ]
    },
    {
      "cell_type": "markdown",
      "metadata": {
        "id": "phduYXp3dhjR"
      },
      "source": [
        "Тематическая согласованность измеряет оценку одной темы путем измерения степени семантического сходства между высоко оцененными словами в теме\n",
        "\n",
        "Показатель **c_v** извлекает количество совпадений для заданных слов с использованием скользящего окна. Счетчики используются для вычисления NPMI каждого топ-токена по отношению к другим топ-токенам, в результате чего получается набор векторов - по одному для каждого топ-токена. Сегментация по одному набору топ-токенов приводит к вычислению сходства между каждым вектором топ-токена и суммой всех векторов топ-токенов. В качестве меры сходства используется косинусное расстояние."
      ]
    },
    {
      "cell_type": "code",
      "metadata": {
        "id": "qrSZerA_O9FY"
      },
      "source": [
        "docs = []\n",
        "\n",
        "for row in n_wd.T:\n",
        "    docs.append([token_list[i] for i, value in enumerate(row) if value > 0])"
      ],
      "execution_count": null,
      "outputs": []
    },
    {
      "cell_type": "code",
      "metadata": {
        "id": "yuewNLCQNZRY"
      },
      "source": [
        "dictionary = corpora.Dictionary(docs)"
      ],
      "execution_count": null,
      "outputs": []
    },
    {
      "cell_type": "code",
      "metadata": {
        "colab": {
          "base_uri": "https://localhost:8080/"
        },
        "id": "yzhLzaXZLKgi",
        "outputId": "1344ff68-5293-4b12-8906-823eae960cd5"
      },
      "source": [
        "coherence_model = CoherenceModel(topics=word_topics, texts=docs, dictionary=dictionary, coherence='c_v')\n",
        "coherence = coherence_model.get_coherence()\n",
        "coherence"
      ],
      "execution_count": null,
      "outputs": [
        {
          "output_type": "execute_result",
          "data": {
            "text/plain": [
              "0.6139406134094401"
            ]
          },
          "metadata": {},
          "execution_count": 85
        }
      ]
    },
    {
      "cell_type": "markdown",
      "metadata": {
        "id": "Mchzd56Y31R4"
      },
      "source": [
        "### Визуализация"
      ]
    },
    {
      "cell_type": "markdown",
      "source": [
        "Иногда по какой-то причине в матрице присутствуют значения > 1.0, которые в сумме дают большое число, вследствие чего деление на них даёт nan'ы, которые не дают визуализировать результаты через pyLDAvis."
      ],
      "metadata": {
        "id": "qYjlnHhqMyJ1"
      }
    },
    {
      "cell_type": "code",
      "source": [
        "teta = model.get_theta().to_numpy().T\n",
        "teta / teta.sum(axis=1, keepdims=1)"
      ],
      "metadata": {
        "colab": {
          "base_uri": "https://localhost:8080/"
        },
        "id": "d6MPsxcH_nMB",
        "outputId": "e68420ad-098f-44c6-eeb9-208415ce3bcd"
      },
      "execution_count": null,
      "outputs": [
        {
          "output_type": "execute_result",
          "data": {
            "text/plain": [
              "array([[0.09999993, 0.09999993, 0.09995178, ..., 0.0999758 , 0.0999758 ,\n",
              "        0.09999993],\n",
              "       [0.09999993, 0.09999993, 0.09995178, ..., 0.0999758 , 0.0999758 ,\n",
              "        0.09999993],\n",
              "       [0.1       , 0.1       , 0.1       , ..., 0.1       , 0.1       ,\n",
              "        0.1       ],\n",
              "       ...,\n",
              "       [0.1       , 0.1       , 0.1       , ..., 0.1       , 0.1       ,\n",
              "        0.1       ],\n",
              "       [0.09999993, 0.09999993, 0.09995178, ..., 0.0999758 , 0.0999758 ,\n",
              "        0.09999993],\n",
              "       [0.09999993, 0.09999993, 0.09995178, ..., 0.0999758 , 0.0999758 ,\n",
              "        0.09999993]], dtype=float32)"
            ]
          },
          "metadata": {},
          "execution_count": 86
        }
      ]
    },
    {
      "cell_type": "code",
      "metadata": {
        "id": "lmW3c6ZK30lM"
      },
      "source": [
        "def prepare_vis_data():\n",
        "    phi = model.get_phi()\n",
        "    theta = model.get_theta().to_numpy().T\n",
        "    theta = theta / theta.sum(axis=1, keepdims=1)\n",
        "    data = {'topic_term_dists': phi.to_numpy().T,\n",
        "            'doc_topic_dists': theta,\n",
        "            'doc_lengths': n_wd.sum(axis=0).tolist(),\n",
        "            'vocab': phi.T.columns,\n",
        "            'term_frequency': n_wd.sum(axis=1).tolist()}\n",
        "    return data\n",
        "\n",
        "model_data = prepare_vis_data()\n",
        "model_vis = pyLDAvis.prepare(**model_data)\n",
        "pyLDAvis.save_html(model_vis, 'lenta_bigartm_vis.html')\n",
        "pyLDAvis.display(model_vis)"
      ],
      "execution_count": null,
      "outputs": []
    },
    {
      "cell_type": "markdown",
      "metadata": {
        "id": "1kEXb7E5JsIE"
      },
      "source": [
        "#### Top tokens"
      ]
    },
    {
      "cell_type": "code",
      "metadata": {
        "id": "F8t-j4-C3sLp"
      },
      "source": [
        "def print_top_tokens():\n",
        "    top_tokens = model.score_tracker['top_tokens_score']\n",
        "\n",
        "    for topic_name in model.topic_names:\n",
        "        print(topic_name + ': ')\n",
        "        for (token, weight) in zip(top_tokens.last_tokens[topic_name], top_tokens.last_weights[topic_name]):\n",
        "            print(f'{round(weight, 3)}*{token}', end=' + ')\n",
        "        print()\n",
        "\n",
        "print_top_tokens()"
      ],
      "execution_count": null,
      "outputs": []
    },
    {
      "cell_type": "markdown",
      "metadata": {
        "id": "cMf08lR_AiLD"
      },
      "source": [
        "Топ-10 токенов для каждой темы"
      ]
    },
    {
      "cell_type": "code",
      "metadata": {
        "id": "pfZ_aJxXJrrV"
      },
      "source": [
        "for topic_name in model.topic_names:\n",
        "    print(topic_name + ': ')\n",
        "    for word in model.score_tracker[\"top_tokens_score\"].last_tokens[topic_name]:\n",
        "        print(word, end=',')\n",
        "    print()"
      ],
      "execution_count": null,
      "outputs": []
    }
  ]
}